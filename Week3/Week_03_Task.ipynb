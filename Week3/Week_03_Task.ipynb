{
  "nbformat": 4,
  "nbformat_minor": 0,
  "metadata": {
    "colab": {
      "name": "Week_03_Task.ipynb",
      "provenance": [],
      "collapsed_sections": []
    },
    "kernelspec": {
      "name": "python3",
      "display_name": "Python 3"
    },
    "language_info": {
      "name": "python"
    }
  },
  "cells": [
    {
      "cell_type": "markdown",
      "metadata": {
        "id": "mblIidFCANQQ"
      },
      "source": [
        "# **Task 03**: Python Libraries (*Pokemon Dataset*)"
      ]
    },
    {
      "cell_type": "markdown",
      "metadata": {
        "id": "nBlEacxOAerD"
      },
      "source": [
        "As discussed during the session, we decided to use the Pokemon dataset to understand the basics of Pandas and Data Visualization. In this task, we will be doing pretty much the same.\n",
        "\n",
        "**At any point, feel free to refer the notebook available** [here](https://github.com/NYU-DataScienceBootCamp/Week-3-Libraries/blob/main/Week_03_Python_Libraries.ipynb)"
      ]
    },
    {
      "cell_type": "markdown",
      "metadata": {
        "id": "CO0_GpDjA83o"
      },
      "source": [
        "## Importing utils\n",
        "\n",
        "Import the necessary 'libraries' (/modules) that will be needed to solve the task and perform necessary operations.\n",
        "\n",
        "*Hint:* You will need to import numpy, pandas, matplotlib, and seaborn.\n",
        "\n",
        "**NOTE:** Make sure you use the naming convention which makes it easier for anybody to read the code and comment any necessary messages."
      ]
    },
    {
      "cell_type": "code",
      "metadata": {
        "id": "5BPNE_EPAMY5"
      },
      "source": [
        "# import library as lib\n",
        "\n",
        "import numpy as np\n",
        "import pandas as pd\n",
        "import seaborn as sns\n",
        "import matplotlib.pyplot as plt\n",
        "\n",
        "%matplotlib inline"
      ],
      "execution_count": null,
      "outputs": []
    },
    {
      "cell_type": "markdown",
      "metadata": {
        "id": "IjL0bIG6Bjyh"
      },
      "source": [
        "## Understanding Numpy\n",
        "\n",
        "This section is for testing your basic knowledge of `numpy`"
      ]
    },
    {
      "cell_type": "code",
      "metadata": {
        "id": "URVApn8fHphY",
        "colab": {
          "base_uri": "https://localhost:8080/"
        },
        "outputId": "dafdb7b6-eb18-4ab9-a944-60dfc972b3dd"
      },
      "source": [
        "# TODO 1: Create a simple array with 5 elements and print their datatype\n",
        "\n",
        "print(np.array([0,1,2]).dtype)"
      ],
      "execution_count": null,
      "outputs": [
        {
          "output_type": "stream",
          "text": [
            "int64\n"
          ],
          "name": "stdout"
        }
      ]
    },
    {
      "cell_type": "code",
      "metadata": {
        "id": "sxfkMvDXHpv2",
        "colab": {
          "base_uri": "https://localhost:8080/"
        },
        "outputId": "df4bbe05-a4b4-4967-c6ae-562a4b4e77a2"
      },
      "source": [
        "# TODO 2: Generate a matrix of size 4 x 4 which has random values between 0 and 1\n",
        "\n",
        "print(np.random.rand(4,4))"
      ],
      "execution_count": null,
      "outputs": [
        {
          "output_type": "stream",
          "text": [
            "[[0.32841069 0.73762661 0.57538403 0.77566407]\n",
            " [0.23788275 0.26661297 0.05475463 0.80378843]\n",
            " [0.87191331 0.48947027 0.27775072 0.73579382]\n",
            " [0.8461451  0.72595227 0.05148385 0.7784809 ]]\n"
          ],
          "name": "stdout"
        }
      ]
    },
    {
      "cell_type": "code",
      "metadata": {
        "id": "GBvHUI7MHp9V",
        "colab": {
          "base_uri": "https://localhost:8080/"
        },
        "outputId": "31b56607-1403-4dfc-b06e-a1155c5eda68"
      },
      "source": [
        "# TODO 3: Generate a matrix of size 4 x 4, but by entering the order as a list\n",
        "print(np.array([[0,1,2,3], [4,5,6,7], [8,9,10,11], [12,13,14,15]]))\n"
      ],
      "execution_count": null,
      "outputs": [
        {
          "output_type": "stream",
          "text": [
            "[[ 0  1  2  3]\n",
            " [ 4  5  6  7]\n",
            " [ 8  9 10 11]\n",
            " [12 13 14 15]]\n"
          ],
          "name": "stdout"
        }
      ]
    },
    {
      "cell_type": "code",
      "metadata": {
        "id": "xhBb_ducI6SP",
        "colab": {
          "base_uri": "https://localhost:8080/"
        },
        "outputId": "2aea5631-5614-4b54-9aa6-7b4ac0281298"
      },
      "source": [
        "# TODO 4: Create a 3-D Array\n",
        "\n",
        "print(np.array([[[0,1], [2,3]], [[4,5], [6,7]]]))\n"
      ],
      "execution_count": null,
      "outputs": [
        {
          "output_type": "stream",
          "text": [
            "[[[0 1]\n",
            "  [2 3]]\n",
            "\n",
            " [[4 5]\n",
            "  [6 7]]]\n"
          ],
          "name": "stdout"
        }
      ]
    },
    {
      "cell_type": "markdown",
      "metadata": {
        "id": "A6o0v_xjIq6a"
      },
      "source": [
        "## Pokemon Dataset\n",
        "\n",
        "Download the `pokemon.csv` from the repository in the `task-week3` folder"
      ]
    },
    {
      "cell_type": "markdown",
      "metadata": {
        "id": "qJdIvOWURWsZ"
      },
      "source": [
        "### Introduction"
      ]
    },
    {
      "cell_type": "code",
      "metadata": {
        "id": "Y3Ay3cLKIySb"
      },
      "source": [
        "from google.colab import files\n",
        "files.upload()"
      ],
      "execution_count": null,
      "outputs": []
    },
    {
      "cell_type": "code",
      "metadata": {
        "id": "7DAxnPtGLa_2"
      },
      "source": [
        "# TODO 5: Read the `Pokemon.csv` file and name is display the first 5 rows\n",
        "\n",
        "pd.read_csv('pokemon.csv').head()\n",
        "pokemonData = pd.read_csv('pokemon.csv')"
      ],
      "execution_count": null,
      "outputs": []
    },
    {
      "cell_type": "code",
      "metadata": {
        "id": "EdyPeixVQCol",
        "colab": {
          "base_uri": "https://localhost:8080/",
          "height": 320
        },
        "outputId": "752e737d-7461-4539-c03d-3e9121118d8b"
      },
      "source": [
        "# TODO 6: Display the information\n",
        "\n",
        "pokemonData.describe()"
      ],
      "execution_count": null,
      "outputs": [
        {
          "output_type": "execute_result",
          "data": {
            "text/html": [
              "<div>\n",
              "<style scoped>\n",
              "    .dataframe tbody tr th:only-of-type {\n",
              "        vertical-align: middle;\n",
              "    }\n",
              "\n",
              "    .dataframe tbody tr th {\n",
              "        vertical-align: top;\n",
              "    }\n",
              "\n",
              "    .dataframe thead th {\n",
              "        text-align: right;\n",
              "    }\n",
              "</style>\n",
              "<table border=\"1\" class=\"dataframe\">\n",
              "  <thead>\n",
              "    <tr style=\"text-align: right;\">\n",
              "      <th></th>\n",
              "      <th>#</th>\n",
              "      <th>HP</th>\n",
              "      <th>Attack</th>\n",
              "      <th>Defense</th>\n",
              "      <th>Sp. Atk</th>\n",
              "      <th>Sp. Def</th>\n",
              "      <th>Speed</th>\n",
              "      <th>Generation</th>\n",
              "    </tr>\n",
              "  </thead>\n",
              "  <tbody>\n",
              "    <tr>\n",
              "      <th>count</th>\n",
              "      <td>5.000000</td>\n",
              "      <td>5.000000</td>\n",
              "      <td>5.000000</td>\n",
              "      <td>5.000000</td>\n",
              "      <td>5.00000</td>\n",
              "      <td>5.000000</td>\n",
              "      <td>5.000000</td>\n",
              "      <td>5.0</td>\n",
              "    </tr>\n",
              "    <tr>\n",
              "      <th>mean</th>\n",
              "      <td>3.000000</td>\n",
              "      <td>60.800000</td>\n",
              "      <td>69.000000</td>\n",
              "      <td>72.200000</td>\n",
              "      <td>85.40000</td>\n",
              "      <td>83.000000</td>\n",
              "      <td>66.000000</td>\n",
              "      <td>1.0</td>\n",
              "    </tr>\n",
              "    <tr>\n",
              "      <th>std</th>\n",
              "      <td>1.581139</td>\n",
              "      <td>19.123284</td>\n",
              "      <td>21.610183</td>\n",
              "      <td>32.298607</td>\n",
              "      <td>25.70603</td>\n",
              "      <td>27.748874</td>\n",
              "      <td>14.747881</td>\n",
              "      <td>0.0</td>\n",
              "    </tr>\n",
              "    <tr>\n",
              "      <th>min</th>\n",
              "      <td>1.000000</td>\n",
              "      <td>39.000000</td>\n",
              "      <td>49.000000</td>\n",
              "      <td>43.000000</td>\n",
              "      <td>60.00000</td>\n",
              "      <td>50.000000</td>\n",
              "      <td>45.000000</td>\n",
              "      <td>1.0</td>\n",
              "    </tr>\n",
              "    <tr>\n",
              "      <th>25%</th>\n",
              "      <td>2.000000</td>\n",
              "      <td>45.000000</td>\n",
              "      <td>52.000000</td>\n",
              "      <td>49.000000</td>\n",
              "      <td>65.00000</td>\n",
              "      <td>65.000000</td>\n",
              "      <td>60.000000</td>\n",
              "      <td>1.0</td>\n",
              "    </tr>\n",
              "    <tr>\n",
              "      <th>50%</th>\n",
              "      <td>3.000000</td>\n",
              "      <td>60.000000</td>\n",
              "      <td>62.000000</td>\n",
              "      <td>63.000000</td>\n",
              "      <td>80.00000</td>\n",
              "      <td>80.000000</td>\n",
              "      <td>65.000000</td>\n",
              "      <td>1.0</td>\n",
              "    </tr>\n",
              "    <tr>\n",
              "      <th>75%</th>\n",
              "      <td>4.000000</td>\n",
              "      <td>80.000000</td>\n",
              "      <td>82.000000</td>\n",
              "      <td>83.000000</td>\n",
              "      <td>100.00000</td>\n",
              "      <td>100.000000</td>\n",
              "      <td>80.000000</td>\n",
              "      <td>1.0</td>\n",
              "    </tr>\n",
              "    <tr>\n",
              "      <th>max</th>\n",
              "      <td>5.000000</td>\n",
              "      <td>80.000000</td>\n",
              "      <td>100.000000</td>\n",
              "      <td>123.000000</td>\n",
              "      <td>122.00000</td>\n",
              "      <td>120.000000</td>\n",
              "      <td>80.000000</td>\n",
              "      <td>1.0</td>\n",
              "    </tr>\n",
              "  </tbody>\n",
              "</table>\n",
              "</div>"
            ],
            "text/plain": [
              "              #         HP      Attack  ...     Sp. Def      Speed  Generation\n",
              "count  5.000000   5.000000    5.000000  ...    5.000000   5.000000         5.0\n",
              "mean   3.000000  60.800000   69.000000  ...   83.000000  66.000000         1.0\n",
              "std    1.581139  19.123284   21.610183  ...   27.748874  14.747881         0.0\n",
              "min    1.000000  39.000000   49.000000  ...   50.000000  45.000000         1.0\n",
              "25%    2.000000  45.000000   52.000000  ...   65.000000  60.000000         1.0\n",
              "50%    3.000000  60.000000   62.000000  ...   80.000000  65.000000         1.0\n",
              "75%    4.000000  80.000000   82.000000  ...  100.000000  80.000000         1.0\n",
              "max    5.000000  80.000000  100.000000  ...  120.000000  80.000000         1.0\n",
              "\n",
              "[8 rows x 8 columns]"
            ]
          },
          "metadata": {
            "tags": []
          },
          "execution_count": 25
        }
      ]
    },
    {
      "cell_type": "code",
      "metadata": {
        "colab": {
          "base_uri": "https://localhost:8080/",
          "height": 351
        },
        "id": "p9Luku5AQK0y",
        "outputId": "30ae8222-ed98-4401-d2c3-9d654f8b10bd"
      },
      "source": [
        "# corr() computes the correlation of columns excluding Null values\n",
        "\n",
        "pokemonData.corr()"
      ],
      "execution_count": null,
      "outputs": [
        {
          "output_type": "execute_result",
          "data": {
            "text/html": [
              "<div>\n",
              "<style scoped>\n",
              "    .dataframe tbody tr th:only-of-type {\n",
              "        vertical-align: middle;\n",
              "    }\n",
              "\n",
              "    .dataframe tbody tr th {\n",
              "        vertical-align: top;\n",
              "    }\n",
              "\n",
              "    .dataframe thead th {\n",
              "        text-align: right;\n",
              "    }\n",
              "</style>\n",
              "<table border=\"1\" class=\"dataframe\">\n",
              "  <thead>\n",
              "    <tr style=\"text-align: right;\">\n",
              "      <th></th>\n",
              "      <th>#</th>\n",
              "      <th>HP</th>\n",
              "      <th>Attack</th>\n",
              "      <th>Defense</th>\n",
              "      <th>Sp. Atk</th>\n",
              "      <th>Sp. Def</th>\n",
              "      <th>Speed</th>\n",
              "      <th>Generation</th>\n",
              "      <th>Legendary</th>\n",
              "    </tr>\n",
              "  </thead>\n",
              "  <tbody>\n",
              "    <tr>\n",
              "      <th>#</th>\n",
              "      <td>1.000000</td>\n",
              "      <td>0.066145</td>\n",
              "      <td>0.321932</td>\n",
              "      <td>0.234978</td>\n",
              "      <td>0.196827</td>\n",
              "      <td>0.056980</td>\n",
              "      <td>0.643268</td>\n",
              "      <td>NaN</td>\n",
              "      <td>NaN</td>\n",
              "    </tr>\n",
              "    <tr>\n",
              "      <th>HP</th>\n",
              "      <td>0.066145</td>\n",
              "      <td>1.000000</td>\n",
              "      <td>0.929807</td>\n",
              "      <td>0.887712</td>\n",
              "      <td>0.947651</td>\n",
              "      <td>0.962500</td>\n",
              "      <td>0.794248</td>\n",
              "      <td>NaN</td>\n",
              "      <td>NaN</td>\n",
              "    </tr>\n",
              "    <tr>\n",
              "      <th>Attack</th>\n",
              "      <td>0.321932</td>\n",
              "      <td>0.929807</td>\n",
              "      <td>1.000000</td>\n",
              "      <td>0.981405</td>\n",
              "      <td>0.990978</td>\n",
              "      <td>0.963049</td>\n",
              "      <td>0.858946</td>\n",
              "      <td>NaN</td>\n",
              "      <td>NaN</td>\n",
              "    </tr>\n",
              "    <tr>\n",
              "      <th>Defense</th>\n",
              "      <td>0.234978</td>\n",
              "      <td>0.887712</td>\n",
              "      <td>0.981405</td>\n",
              "      <td>1.000000</td>\n",
              "      <td>0.988114</td>\n",
              "      <td>0.968480</td>\n",
              "      <td>0.752620</td>\n",
              "      <td>NaN</td>\n",
              "      <td>NaN</td>\n",
              "    </tr>\n",
              "    <tr>\n",
              "      <th>Sp. Atk</th>\n",
              "      <td>0.196827</td>\n",
              "      <td>0.947651</td>\n",
              "      <td>0.990978</td>\n",
              "      <td>0.988114</td>\n",
              "      <td>1.000000</td>\n",
              "      <td>0.989747</td>\n",
              "      <td>0.793306</td>\n",
              "      <td>NaN</td>\n",
              "      <td>NaN</td>\n",
              "    </tr>\n",
              "    <tr>\n",
              "      <th>Sp. Def</th>\n",
              "      <td>0.056980</td>\n",
              "      <td>0.962500</td>\n",
              "      <td>0.963049</td>\n",
              "      <td>0.968480</td>\n",
              "      <td>0.989747</td>\n",
              "      <td>1.000000</td>\n",
              "      <td>0.723908</td>\n",
              "      <td>NaN</td>\n",
              "      <td>NaN</td>\n",
              "    </tr>\n",
              "    <tr>\n",
              "      <th>Speed</th>\n",
              "      <td>0.643268</td>\n",
              "      <td>0.794248</td>\n",
              "      <td>0.858946</td>\n",
              "      <td>0.752620</td>\n",
              "      <td>0.793306</td>\n",
              "      <td>0.723908</td>\n",
              "      <td>1.000000</td>\n",
              "      <td>NaN</td>\n",
              "      <td>NaN</td>\n",
              "    </tr>\n",
              "    <tr>\n",
              "      <th>Generation</th>\n",
              "      <td>NaN</td>\n",
              "      <td>NaN</td>\n",
              "      <td>NaN</td>\n",
              "      <td>NaN</td>\n",
              "      <td>NaN</td>\n",
              "      <td>NaN</td>\n",
              "      <td>NaN</td>\n",
              "      <td>NaN</td>\n",
              "      <td>NaN</td>\n",
              "    </tr>\n",
              "    <tr>\n",
              "      <th>Legendary</th>\n",
              "      <td>NaN</td>\n",
              "      <td>NaN</td>\n",
              "      <td>NaN</td>\n",
              "      <td>NaN</td>\n",
              "      <td>NaN</td>\n",
              "      <td>NaN</td>\n",
              "      <td>NaN</td>\n",
              "      <td>NaN</td>\n",
              "      <td>NaN</td>\n",
              "    </tr>\n",
              "  </tbody>\n",
              "</table>\n",
              "</div>"
            ],
            "text/plain": [
              "                   #        HP    Attack  ...     Speed  Generation  Legendary\n",
              "#           1.000000  0.066145  0.321932  ...  0.643268         NaN        NaN\n",
              "HP          0.066145  1.000000  0.929807  ...  0.794248         NaN        NaN\n",
              "Attack      0.321932  0.929807  1.000000  ...  0.858946         NaN        NaN\n",
              "Defense     0.234978  0.887712  0.981405  ...  0.752620         NaN        NaN\n",
              "Sp. Atk     0.196827  0.947651  0.990978  ...  0.793306         NaN        NaN\n",
              "Sp. Def     0.056980  0.962500  0.963049  ...  0.723908         NaN        NaN\n",
              "Speed       0.643268  0.794248  0.858946  ...  1.000000         NaN        NaN\n",
              "Generation       NaN       NaN       NaN  ...       NaN         NaN        NaN\n",
              "Legendary        NaN       NaN       NaN  ...       NaN         NaN        NaN\n",
              "\n",
              "[9 rows x 9 columns]"
            ]
          },
          "metadata": {
            "tags": []
          },
          "execution_count": 27
        }
      ]
    },
    {
      "cell_type": "code",
      "metadata": {
        "colab": {
          "base_uri": "https://localhost:8080/",
          "height": 700
        },
        "id": "6lPeptMZQYlP",
        "outputId": "b05f5f9a-0e5a-4954-fd85-3d09fe525734"
      },
      "source": [
        "# Extra information: Correlation Map\n",
        "\n",
        "f, ax = plt.subplots(figsize = (18, 18))\n",
        "sns.heatmap(pokemonData.corr(), annot=True, linewidths=0.5, fmt='.1f', ax=ax)"
      ],
      "execution_count": null,
      "outputs": [
        {
          "output_type": "execute_result",
          "data": {
            "text/plain": [
              "<matplotlib.axes._subplots.AxesSubplot at 0x7f65e7901210>"
            ]
          },
          "metadata": {
            "tags": []
          },
          "execution_count": 33
        },
        {
          "output_type": "display_data",
          "data": {
            "image/png": "[encoded data removed]",
            "text/plain": [
              "<Figure size 1296x1296 with 2 Axes>"
            ]
          },
          "metadata": {
            "tags": [],
            "needs_background": "light"
          }
        }
      ]
    },
    {
      "cell_type": "markdown",
      "metadata": {
        "id": "qQo7sY_cRZwr"
      },
      "source": [
        "### Matplotlib"
      ]
    },
    {
      "cell_type": "markdown",
      "metadata": {
        "id": "ZjyApQPxSDxY"
      },
      "source": [
        "**TODO 7:** Line Plotting </br>\n",
        "Have a line plot plotting speed and defense along the same axis and the same graph </br>\n",
        "The expected output is as shown:\n",
        "\n",
        "![download.png](data:image/png;base64,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)\n",
        "\n",
        "Make sure that you also have a legend and the axes are labeled."
      ]
    },
    {
      "cell_type": "code",
      "metadata": {
        "id": "K0xE5DTSQY2Q",
        "colab": {
          "base_uri": "https://localhost:8080/",
          "height": 283
        },
        "outputId": "1a17c058-5974-4845-8c20-0bf7cfbe9130"
      },
      "source": [
        "# Run TODO 7 here\n",
        "\n",
        "linePlotData = pokemonData[['Speed','Defense']]\n",
        "sns.lineplot(data=linePlotData, dashes=[(1,1),(1,1)]) "
      ],
      "execution_count": null,
      "outputs": [
        {
          "output_type": "execute_result",
          "data": {
            "text/plain": [
              "<matplotlib.axes._subplots.AxesSubplot at 0x7f65da95ff90>"
            ]
          },
          "metadata": {
            "tags": []
          },
          "execution_count": 200
        },
        {
          "output_type": "display_data",
          "data": {
            "image/png": "[encoded data removed]",
            "text/plain": [
              "<Figure size 432x288 with 1 Axes>"
            ]
          },
          "metadata": {
            "tags": [],
            "needs_background": "light"
          }
        }
      ]
    },
    {
      "cell_type": "markdown",
      "metadata": {
        "id": "pu1ngU-KTYKu"
      },
      "source": [
        "**TODO 8:** Scatter Plot </br>\n",
        "Plot a scatterplot with `x = attack` and `y = defense` </br>\n",
        "The expected output is as shown:\n",
        "\n",
        "![download (1).png](data:image/png;base64,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)"
      ]
    },
    {
      "cell_type": "code",
      "metadata": {
        "id": "HYarZilYSCXh",
        "colab": {
          "base_uri": "https://localhost:8080/",
          "height": 297
        },
        "outputId": "9a27c8c8-eea3-41cd-d51f-f7b3cc89e7df"
      },
      "source": [
        "# Run TODO 8 here\n",
        "\n",
        "sns.scatterplot(x='Attack',y='Defense',data=pokemonData)"
      ],
      "execution_count": null,
      "outputs": [
        {
          "output_type": "execute_result",
          "data": {
            "text/plain": [
              "<matplotlib.axes._subplots.AxesSubplot at 0x7f65dd13d290>"
            ]
          },
          "metadata": {
            "tags": []
          },
          "execution_count": 89
        },
        {
          "output_type": "display_data",
          "data": {
            "image/png": "[encoded data removed]",
            "text/plain": [
              "<Figure size 432x288 with 1 Axes>"
            ]
          },
          "metadata": {
            "tags": [],
            "needs_background": "light"
          }
        }
      ]
    },
    {
      "cell_type": "markdown",
      "metadata": {
        "id": "MBKBtTDGCGX_"
      },
      "source": [
        "### Pandas"
      ]
    },
    {
      "cell_type": "code",
      "metadata": {
        "id": "0l9GgMG4Uf-m",
        "colab": {
          "base_uri": "https://localhost:8080/",
          "height": 143
        },
        "outputId": "73253c3e-4d2e-4621-89ad-01c769a33378"
      },
      "source": [
        "# TODO 9: Display the Pokemon who have Defense greater than 200\n",
        "\n",
        "pokemonData[pokemonData['Defense'] > 200]"
      ],
      "execution_count": null,
      "outputs": [
        {
          "output_type": "execute_result",
          "data": {
            "text/html": [
              "<div>\n",
              "<style scoped>\n",
              "    .dataframe tbody tr th:only-of-type {\n",
              "        vertical-align: middle;\n",
              "    }\n",
              "\n",
              "    .dataframe tbody tr th {\n",
              "        vertical-align: top;\n",
              "    }\n",
              "\n",
              "    .dataframe thead th {\n",
              "        text-align: right;\n",
              "    }\n",
              "</style>\n",
              "<table border=\"1\" class=\"dataframe\">\n",
              "  <thead>\n",
              "    <tr style=\"text-align: right;\">\n",
              "      <th></th>\n",
              "      <th>#</th>\n",
              "      <th>Name</th>\n",
              "      <th>Type 1</th>\n",
              "      <th>Type 2</th>\n",
              "      <th>HP</th>\n",
              "      <th>Attack</th>\n",
              "      <th>Defense</th>\n",
              "      <th>Sp. Atk</th>\n",
              "      <th>Sp. Def</th>\n",
              "      <th>Speed</th>\n",
              "      <th>Generation</th>\n",
              "      <th>Legendary</th>\n",
              "    </tr>\n",
              "  </thead>\n",
              "  <tbody>\n",
              "    <tr>\n",
              "      <th>224</th>\n",
              "      <td>225</td>\n",
              "      <td>Mega Steelix</td>\n",
              "      <td>Steel</td>\n",
              "      <td>Ground</td>\n",
              "      <td>75</td>\n",
              "      <td>125</td>\n",
              "      <td>230</td>\n",
              "      <td>55</td>\n",
              "      <td>95</td>\n",
              "      <td>30</td>\n",
              "      <td>2</td>\n",
              "      <td>False</td>\n",
              "    </tr>\n",
              "    <tr>\n",
              "      <th>230</th>\n",
              "      <td>231</td>\n",
              "      <td>Shuckle</td>\n",
              "      <td>Bug</td>\n",
              "      <td>Rock</td>\n",
              "      <td>20</td>\n",
              "      <td>10</td>\n",
              "      <td>230</td>\n",
              "      <td>10</td>\n",
              "      <td>230</td>\n",
              "      <td>5</td>\n",
              "      <td>2</td>\n",
              "      <td>False</td>\n",
              "    </tr>\n",
              "    <tr>\n",
              "      <th>333</th>\n",
              "      <td>334</td>\n",
              "      <td>Mega Aggron</td>\n",
              "      <td>Steel</td>\n",
              "      <td>NaN</td>\n",
              "      <td>70</td>\n",
              "      <td>140</td>\n",
              "      <td>230</td>\n",
              "      <td>60</td>\n",
              "      <td>80</td>\n",
              "      <td>50</td>\n",
              "      <td>3</td>\n",
              "      <td>False</td>\n",
              "    </tr>\n",
              "  </tbody>\n",
              "</table>\n",
              "</div>"
            ],
            "text/plain": [
              "       #          Name Type 1  Type 2  ...  Sp. Def  Speed  Generation  Legendary\n",
              "224  225  Mega Steelix  Steel  Ground  ...       95     30           2      False\n",
              "230  231       Shuckle    Bug    Rock  ...      230      5           2      False\n",
              "333  334   Mega Aggron  Steel     NaN  ...       80     50           3      False\n",
              "\n",
              "[3 rows x 12 columns]"
            ]
          },
          "metadata": {
            "tags": []
          },
          "execution_count": 106
        }
      ]
    },
    {
      "cell_type": "code",
      "metadata": {
        "id": "41z-PeU9UwP8",
        "colab": {
          "base_uri": "https://localhost:8080/",
          "height": 423
        },
        "outputId": "6b0c8c2a-8649-4941-d734-fc1a2507874f"
      },
      "source": [
        "# TODO 10: Display the Pokemon who have Attack greater than 100 and Defense less than 150\n",
        "\n",
        "pokemonData[(pokemonData['Attack'] > 100) & (pokemonData['Defense'] < 150)]"
      ],
      "execution_count": null,
      "outputs": [
        {
          "output_type": "execute_result",
          "data": {
            "text/html": [
              "<div>\n",
              "<style scoped>\n",
              "    .dataframe tbody tr th:only-of-type {\n",
              "        vertical-align: middle;\n",
              "    }\n",
              "\n",
              "    .dataframe tbody tr th {\n",
              "        vertical-align: top;\n",
              "    }\n",
              "\n",
              "    .dataframe thead th {\n",
              "        text-align: right;\n",
              "    }\n",
              "</style>\n",
              "<table border=\"1\" class=\"dataframe\">\n",
              "  <thead>\n",
              "    <tr style=\"text-align: right;\">\n",
              "      <th></th>\n",
              "      <th>#</th>\n",
              "      <th>Name</th>\n",
              "      <th>Type 1</th>\n",
              "      <th>Type 2</th>\n",
              "      <th>HP</th>\n",
              "      <th>Attack</th>\n",
              "      <th>Defense</th>\n",
              "      <th>Sp. Atk</th>\n",
              "      <th>Sp. Def</th>\n",
              "      <th>Speed</th>\n",
              "      <th>Generation</th>\n",
              "      <th>Legendary</th>\n",
              "    </tr>\n",
              "  </thead>\n",
              "  <tbody>\n",
              "    <tr>\n",
              "      <th>7</th>\n",
              "      <td>8</td>\n",
              "      <td>Mega Charizard X</td>\n",
              "      <td>Fire</td>\n",
              "      <td>Dragon</td>\n",
              "      <td>78</td>\n",
              "      <td>130</td>\n",
              "      <td>111</td>\n",
              "      <td>130</td>\n",
              "      <td>85</td>\n",
              "      <td>100</td>\n",
              "      <td>1</td>\n",
              "      <td>False</td>\n",
              "    </tr>\n",
              "    <tr>\n",
              "      <th>8</th>\n",
              "      <td>9</td>\n",
              "      <td>Mega Charizard Y</td>\n",
              "      <td>Fire</td>\n",
              "      <td>Flying</td>\n",
              "      <td>78</td>\n",
              "      <td>104</td>\n",
              "      <td>78</td>\n",
              "      <td>159</td>\n",
              "      <td>115</td>\n",
              "      <td>100</td>\n",
              "      <td>1</td>\n",
              "      <td>False</td>\n",
              "    </tr>\n",
              "    <tr>\n",
              "      <th>12</th>\n",
              "      <td>13</td>\n",
              "      <td>Mega Blastoise</td>\n",
              "      <td>Water</td>\n",
              "      <td>NaN</td>\n",
              "      <td>79</td>\n",
              "      <td>103</td>\n",
              "      <td>120</td>\n",
              "      <td>135</td>\n",
              "      <td>115</td>\n",
              "      <td>78</td>\n",
              "      <td>1</td>\n",
              "      <td>False</td>\n",
              "    </tr>\n",
              "    <tr>\n",
              "      <th>19</th>\n",
              "      <td>20</td>\n",
              "      <td>Mega Beedrill</td>\n",
              "      <td>Bug</td>\n",
              "      <td>Poison</td>\n",
              "      <td>65</td>\n",
              "      <td>150</td>\n",
              "      <td>40</td>\n",
              "      <td>15</td>\n",
              "      <td>80</td>\n",
              "      <td>145</td>\n",
              "      <td>1</td>\n",
              "      <td>False</td>\n",
              "    </tr>\n",
              "    <tr>\n",
              "      <th>39</th>\n",
              "      <td>40</td>\n",
              "      <td>Nidoking</td>\n",
              "      <td>Poison</td>\n",
              "      <td>Ground</td>\n",
              "      <td>81</td>\n",
              "      <td>102</td>\n",
              "      <td>77</td>\n",
              "      <td>85</td>\n",
              "      <td>75</td>\n",
              "      <td>85</td>\n",
              "      <td>1</td>\n",
              "      <td>False</td>\n",
              "    </tr>\n",
              "    <tr>\n",
              "      <th>...</th>\n",
              "      <td>...</td>\n",
              "      <td>...</td>\n",
              "      <td>...</td>\n",
              "      <td>...</td>\n",
              "      <td>...</td>\n",
              "      <td>...</td>\n",
              "      <td>...</td>\n",
              "      <td>...</td>\n",
              "      <td>...</td>\n",
              "      <td>...</td>\n",
              "      <td>...</td>\n",
              "      <td>...</td>\n",
              "    </tr>\n",
              "    <tr>\n",
              "      <th>793</th>\n",
              "      <td>794</td>\n",
              "      <td>Yveltal</td>\n",
              "      <td>Dark</td>\n",
              "      <td>Flying</td>\n",
              "      <td>126</td>\n",
              "      <td>131</td>\n",
              "      <td>95</td>\n",
              "      <td>131</td>\n",
              "      <td>98</td>\n",
              "      <td>99</td>\n",
              "      <td>6</td>\n",
              "      <td>True</td>\n",
              "    </tr>\n",
              "    <tr>\n",
              "      <th>796</th>\n",
              "      <td>797</td>\n",
              "      <td>Mega Diancie</td>\n",
              "      <td>Rock</td>\n",
              "      <td>Fairy</td>\n",
              "      <td>50</td>\n",
              "      <td>160</td>\n",
              "      <td>110</td>\n",
              "      <td>160</td>\n",
              "      <td>110</td>\n",
              "      <td>110</td>\n",
              "      <td>6</td>\n",
              "      <td>True</td>\n",
              "    </tr>\n",
              "    <tr>\n",
              "      <th>797</th>\n",
              "      <td>798</td>\n",
              "      <td>Hoopa Confined</td>\n",
              "      <td>Psychic</td>\n",
              "      <td>Ghost</td>\n",
              "      <td>80</td>\n",
              "      <td>110</td>\n",
              "      <td>60</td>\n",
              "      <td>150</td>\n",
              "      <td>130</td>\n",
              "      <td>70</td>\n",
              "      <td>6</td>\n",
              "      <td>True</td>\n",
              "    </tr>\n",
              "    <tr>\n",
              "      <th>798</th>\n",
              "      <td>799</td>\n",
              "      <td>Hoopa Unbound</td>\n",
              "      <td>Psychic</td>\n",
              "      <td>Dark</td>\n",
              "      <td>80</td>\n",
              "      <td>160</td>\n",
              "      <td>60</td>\n",
              "      <td>170</td>\n",
              "      <td>130</td>\n",
              "      <td>80</td>\n",
              "      <td>6</td>\n",
              "      <td>True</td>\n",
              "    </tr>\n",
              "    <tr>\n",
              "      <th>799</th>\n",
              "      <td>800</td>\n",
              "      <td>Volcanion</td>\n",
              "      <td>Fire</td>\n",
              "      <td>Water</td>\n",
              "      <td>80</td>\n",
              "      <td>110</td>\n",
              "      <td>120</td>\n",
              "      <td>130</td>\n",
              "      <td>90</td>\n",
              "      <td>70</td>\n",
              "      <td>6</td>\n",
              "      <td>True</td>\n",
              "    </tr>\n",
              "  </tbody>\n",
              "</table>\n",
              "<p>162 rows × 12 columns</p>\n",
              "</div>"
            ],
            "text/plain": [
              "       #              Name   Type 1  ... Speed  Generation  Legendary\n",
              "7      8  Mega Charizard X     Fire  ...   100           1      False\n",
              "8      9  Mega Charizard Y     Fire  ...   100           1      False\n",
              "12    13    Mega Blastoise    Water  ...    78           1      False\n",
              "19    20     Mega Beedrill      Bug  ...   145           1      False\n",
              "39    40          Nidoking   Poison  ...    85           1      False\n",
              "..   ...               ...      ...  ...   ...         ...        ...\n",
              "793  794           Yveltal     Dark  ...    99           6       True\n",
              "796  797      Mega Diancie     Rock  ...   110           6       True\n",
              "797  798    Hoopa Confined  Psychic  ...    70           6       True\n",
              "798  799     Hoopa Unbound  Psychic  ...    80           6       True\n",
              "799  800         Volcanion     Fire  ...    70           6       True\n",
              "\n",
              "[162 rows x 12 columns]"
            ]
          },
          "metadata": {
            "tags": []
          },
          "execution_count": 109
        }
      ]
    },
    {
      "cell_type": "markdown",
      "metadata": {
        "id": "IexJ3W9wVopc"
      },
      "source": [
        "### Cleaning data"
      ]
    },
    {
      "cell_type": "code",
      "metadata": {
        "id": "8f4whq_UVWUK",
        "colab": {
          "base_uri": "https://localhost:8080/",
          "height": 385
        },
        "outputId": "c44de3a6-1f09-461f-b018-34a2eb13a79b"
      },
      "source": [
        "from google.colab import files\n",
        "files.upload()"
      ],
      "execution_count": null,
      "outputs": [
        {
          "output_type": "display_data",
          "data": {
            "text/html": [
              "\n",
              "     <input type=\"file\" id=\"files-004bd992-5d8a-4ec3-975a-179b97700c41\" name=\"files[]\" multiple disabled\n",
              "        style=\"border:none\" />\n",
              "     <output id=\"result-004bd992-5d8a-4ec3-975a-179b97700c41\">\n",
              "      Upload widget is only available when the cell has been executed in the\n",
              "      current browser session. Please rerun this cell to enable.\n",
              "      </output>\n",
              "      <script src=\"/nbextensions/google.colab/files.js\"></script> "
            ],
            "text/plain": [
              "<IPython.core.display.HTML object>"
            ]
          },
          "metadata": {
            "tags": []
          }
        },
        {
          "output_type": "error",
          "ename": "MessageError",
          "evalue": "ignored",
          "traceback": [
            "\u001b[0;31m---------------------------------------------------------------------------\u001b[0m",
            "\u001b[0;31mMessageError\u001b[0m                              Traceback (most recent call last)",
            "\u001b[0;32m<ipython-input-113-5c2e8a8d365b>\u001b[0m in \u001b[0;36m<module>\u001b[0;34m()\u001b[0m\n\u001b[1;32m      1\u001b[0m \u001b[0;32mfrom\u001b[0m \u001b[0mgoogle\u001b[0m\u001b[0;34m.\u001b[0m\u001b[0mcolab\u001b[0m \u001b[0;32mimport\u001b[0m \u001b[0mfiles\u001b[0m\u001b[0;34m\u001b[0m\u001b[0;34m\u001b[0m\u001b[0m\n\u001b[0;32m----> 2\u001b[0;31m \u001b[0mfiles\u001b[0m\u001b[0;34m.\u001b[0m\u001b[0mupload\u001b[0m\u001b[0;34m(\u001b[0m\u001b[0;34m)\u001b[0m\u001b[0;34m\u001b[0m\u001b[0;34m\u001b[0m\u001b[0m\n\u001b[0m",
            "\u001b[0;32m/usr/local/lib/python3.7/dist-packages/google/colab/files.py\u001b[0m in \u001b[0;36mupload\u001b[0;34m()\u001b[0m\n\u001b[1;32m     62\u001b[0m   result = _output.eval_js(\n\u001b[1;32m     63\u001b[0m       'google.colab._files._uploadFiles(\"{input_id}\", \"{output_id}\")'.format(\n\u001b[0;32m---> 64\u001b[0;31m           input_id=input_id, output_id=output_id))\n\u001b[0m\u001b[1;32m     65\u001b[0m   \u001b[0mfiles\u001b[0m \u001b[0;34m=\u001b[0m \u001b[0m_collections\u001b[0m\u001b[0;34m.\u001b[0m\u001b[0mdefaultdict\u001b[0m\u001b[0;34m(\u001b[0m\u001b[0m_six\u001b[0m\u001b[0;34m.\u001b[0m\u001b[0mbinary_type\u001b[0m\u001b[0;34m)\u001b[0m\u001b[0;34m\u001b[0m\u001b[0;34m\u001b[0m\u001b[0m\n\u001b[1;32m     66\u001b[0m   \u001b[0;31m# Mapping from original filename to filename as saved locally.\u001b[0m\u001b[0;34m\u001b[0m\u001b[0;34m\u001b[0m\u001b[0;34m\u001b[0m\u001b[0m\n",
            "\u001b[0;32m/usr/local/lib/python3.7/dist-packages/google/colab/output/_js.py\u001b[0m in \u001b[0;36meval_js\u001b[0;34m(script, ignore_result, timeout_sec)\u001b[0m\n\u001b[1;32m     38\u001b[0m   \u001b[0;32mif\u001b[0m \u001b[0mignore_result\u001b[0m\u001b[0;34m:\u001b[0m\u001b[0;34m\u001b[0m\u001b[0;34m\u001b[0m\u001b[0m\n\u001b[1;32m     39\u001b[0m     \u001b[0;32mreturn\u001b[0m\u001b[0;34m\u001b[0m\u001b[0;34m\u001b[0m\u001b[0m\n\u001b[0;32m---> 40\u001b[0;31m   \u001b[0;32mreturn\u001b[0m \u001b[0m_message\u001b[0m\u001b[0;34m.\u001b[0m\u001b[0mread_reply_from_input\u001b[0m\u001b[0;34m(\u001b[0m\u001b[0mrequest_id\u001b[0m\u001b[0;34m,\u001b[0m \u001b[0mtimeout_sec\u001b[0m\u001b[0;34m)\u001b[0m\u001b[0;34m\u001b[0m\u001b[0;34m\u001b[0m\u001b[0m\n\u001b[0m\u001b[1;32m     41\u001b[0m \u001b[0;34m\u001b[0m\u001b[0m\n\u001b[1;32m     42\u001b[0m \u001b[0;34m\u001b[0m\u001b[0m\n",
            "\u001b[0;32m/usr/local/lib/python3.7/dist-packages/google/colab/_message.py\u001b[0m in \u001b[0;36mread_reply_from_input\u001b[0;34m(message_id, timeout_sec)\u001b[0m\n\u001b[1;32m    104\u001b[0m         reply.get('colab_msg_id') == message_id):\n\u001b[1;32m    105\u001b[0m       \u001b[0;32mif\u001b[0m \u001b[0;34m'error'\u001b[0m \u001b[0;32min\u001b[0m \u001b[0mreply\u001b[0m\u001b[0;34m:\u001b[0m\u001b[0;34m\u001b[0m\u001b[0;34m\u001b[0m\u001b[0m\n\u001b[0;32m--> 106\u001b[0;31m         \u001b[0;32mraise\u001b[0m \u001b[0mMessageError\u001b[0m\u001b[0;34m(\u001b[0m\u001b[0mreply\u001b[0m\u001b[0;34m[\u001b[0m\u001b[0;34m'error'\u001b[0m\u001b[0;34m]\u001b[0m\u001b[0;34m)\u001b[0m\u001b[0;34m\u001b[0m\u001b[0;34m\u001b[0m\u001b[0m\n\u001b[0m\u001b[1;32m    107\u001b[0m       \u001b[0;32mreturn\u001b[0m \u001b[0mreply\u001b[0m\u001b[0;34m.\u001b[0m\u001b[0mget\u001b[0m\u001b[0;34m(\u001b[0m\u001b[0;34m'data'\u001b[0m\u001b[0;34m,\u001b[0m \u001b[0;32mNone\u001b[0m\u001b[0;34m)\u001b[0m\u001b[0;34m\u001b[0m\u001b[0;34m\u001b[0m\u001b[0m\n\u001b[1;32m    108\u001b[0m \u001b[0;34m\u001b[0m\u001b[0m\n",
            "\u001b[0;31mMessageError\u001b[0m: TypeError: Cannot read property '_uploadFiles' of undefined"
          ]
        }
      ]
    },
    {
      "cell_type": "code",
      "metadata": {
        "id": "vWfEhtElV7kT",
        "colab": {
          "base_uri": "https://localhost:8080/",
          "height": 206
        },
        "outputId": "5ee5c005-9878-4f5f-de93-ee6b2175625a"
      },
      "source": [
        "data = pd.read_csv('pokemon.csv')\n",
        "data.head()"
      ],
      "execution_count": null,
      "outputs": [
        {
          "output_type": "execute_result",
          "data": {
            "text/html": [
              "<div>\n",
              "<style scoped>\n",
              "    .dataframe tbody tr th:only-of-type {\n",
              "        vertical-align: middle;\n",
              "    }\n",
              "\n",
              "    .dataframe tbody tr th {\n",
              "        vertical-align: top;\n",
              "    }\n",
              "\n",
              "    .dataframe thead th {\n",
              "        text-align: right;\n",
              "    }\n",
              "</style>\n",
              "<table border=\"1\" class=\"dataframe\">\n",
              "  <thead>\n",
              "    <tr style=\"text-align: right;\">\n",
              "      <th></th>\n",
              "      <th>#</th>\n",
              "      <th>Name</th>\n",
              "      <th>Type 1</th>\n",
              "      <th>Type 2</th>\n",
              "      <th>HP</th>\n",
              "      <th>Attack</th>\n",
              "      <th>Defense</th>\n",
              "      <th>Sp. Atk</th>\n",
              "      <th>Sp. Def</th>\n",
              "      <th>Speed</th>\n",
              "      <th>Generation</th>\n",
              "      <th>Legendary</th>\n",
              "    </tr>\n",
              "  </thead>\n",
              "  <tbody>\n",
              "    <tr>\n",
              "      <th>0</th>\n",
              "      <td>1</td>\n",
              "      <td>Bulbasaur</td>\n",
              "      <td>Grass</td>\n",
              "      <td>Poison</td>\n",
              "      <td>45</td>\n",
              "      <td>49</td>\n",
              "      <td>49</td>\n",
              "      <td>65</td>\n",
              "      <td>65</td>\n",
              "      <td>45</td>\n",
              "      <td>1</td>\n",
              "      <td>False</td>\n",
              "    </tr>\n",
              "    <tr>\n",
              "      <th>1</th>\n",
              "      <td>2</td>\n",
              "      <td>Ivysaur</td>\n",
              "      <td>Grass</td>\n",
              "      <td>Poison</td>\n",
              "      <td>60</td>\n",
              "      <td>62</td>\n",
              "      <td>63</td>\n",
              "      <td>80</td>\n",
              "      <td>80</td>\n",
              "      <td>60</td>\n",
              "      <td>1</td>\n",
              "      <td>False</td>\n",
              "    </tr>\n",
              "    <tr>\n",
              "      <th>2</th>\n",
              "      <td>3</td>\n",
              "      <td>Venusaur</td>\n",
              "      <td>Grass</td>\n",
              "      <td>Poison</td>\n",
              "      <td>80</td>\n",
              "      <td>82</td>\n",
              "      <td>83</td>\n",
              "      <td>100</td>\n",
              "      <td>100</td>\n",
              "      <td>80</td>\n",
              "      <td>1</td>\n",
              "      <td>False</td>\n",
              "    </tr>\n",
              "    <tr>\n",
              "      <th>3</th>\n",
              "      <td>4</td>\n",
              "      <td>Mega Venusaur</td>\n",
              "      <td>Grass</td>\n",
              "      <td>Poison</td>\n",
              "      <td>80</td>\n",
              "      <td>100</td>\n",
              "      <td>123</td>\n",
              "      <td>122</td>\n",
              "      <td>120</td>\n",
              "      <td>80</td>\n",
              "      <td>1</td>\n",
              "      <td>False</td>\n",
              "    </tr>\n",
              "    <tr>\n",
              "      <th>4</th>\n",
              "      <td>5</td>\n",
              "      <td>Charmander</td>\n",
              "      <td>Fire</td>\n",
              "      <td>NaN</td>\n",
              "      <td>39</td>\n",
              "      <td>52</td>\n",
              "      <td>43</td>\n",
              "      <td>60</td>\n",
              "      <td>50</td>\n",
              "      <td>65</td>\n",
              "      <td>1</td>\n",
              "      <td>False</td>\n",
              "    </tr>\n",
              "  </tbody>\n",
              "</table>\n",
              "</div>"
            ],
            "text/plain": [
              "   #           Name Type 1  Type 2  ...  Sp. Def  Speed  Generation  Legendary\n",
              "0  1      Bulbasaur  Grass  Poison  ...       65     45           1      False\n",
              "1  2        Ivysaur  Grass  Poison  ...       80     60           1      False\n",
              "2  3       Venusaur  Grass  Poison  ...      100     80           1      False\n",
              "3  4  Mega Venusaur  Grass  Poison  ...      120     80           1      False\n",
              "4  5     Charmander   Fire     NaN  ...       50     65           1      False\n",
              "\n",
              "[5 rows x 12 columns]"
            ]
          },
          "metadata": {
            "tags": []
          },
          "execution_count": 112
        }
      ]
    },
    {
      "cell_type": "code",
      "metadata": {
        "id": "yhA1mcRgV-XW",
        "colab": {
          "base_uri": "https://localhost:8080/"
        },
        "outputId": "3c071383-4dcd-4615-8db7-cdbf64f67760"
      },
      "source": [
        "data.info()"
      ],
      "execution_count": null,
      "outputs": [
        {
          "output_type": "stream",
          "text": [
            "<class 'pandas.core.frame.DataFrame'>\n",
            "RangeIndex: 800 entries, 0 to 799\n",
            "Data columns (total 12 columns):\n",
            " #   Column      Non-Null Count  Dtype \n",
            "---  ------      --------------  ----- \n",
            " 0   #           800 non-null    int64 \n",
            " 1   Name        799 non-null    object\n",
            " 2   Type 1      800 non-null    object\n",
            " 3   Type 2      414 non-null    object\n",
            " 4   HP          800 non-null    int64 \n",
            " 5   Attack      800 non-null    int64 \n",
            " 6   Defense     800 non-null    int64 \n",
            " 7   Sp. Atk     800 non-null    int64 \n",
            " 8   Sp. Def     800 non-null    int64 \n",
            " 9   Speed       800 non-null    int64 \n",
            " 10  Generation  800 non-null    int64 \n",
            " 11  Legendary   800 non-null    bool  \n",
            "dtypes: bool(1), int64(8), object(3)\n",
            "memory usage: 69.7+ KB\n"
          ],
          "name": "stdout"
        }
      ]
    },
    {
      "cell_type": "code",
      "metadata": {
        "id": "dLgoPo6CWX-n",
        "colab": {
          "base_uri": "https://localhost:8080/",
          "height": 300
        },
        "outputId": "0c3486f4-f2da-4e8d-8f87-b3f94d35702f"
      },
      "source": [
        "data.describe()"
      ],
      "execution_count": null,
      "outputs": [
        {
          "output_type": "execute_result",
          "data": {
            "text/html": [
              "<div>\n",
              "<style scoped>\n",
              "    .dataframe tbody tr th:only-of-type {\n",
              "        vertical-align: middle;\n",
              "    }\n",
              "\n",
              "    .dataframe tbody tr th {\n",
              "        vertical-align: top;\n",
              "    }\n",
              "\n",
              "    .dataframe thead th {\n",
              "        text-align: right;\n",
              "    }\n",
              "</style>\n",
              "<table border=\"1\" class=\"dataframe\">\n",
              "  <thead>\n",
              "    <tr style=\"text-align: right;\">\n",
              "      <th></th>\n",
              "      <th>#</th>\n",
              "      <th>HP</th>\n",
              "      <th>Attack</th>\n",
              "      <th>Defense</th>\n",
              "      <th>Sp. Atk</th>\n",
              "      <th>Sp. Def</th>\n",
              "      <th>Speed</th>\n",
              "      <th>Generation</th>\n",
              "    </tr>\n",
              "  </thead>\n",
              "  <tbody>\n",
              "    <tr>\n",
              "      <th>count</th>\n",
              "      <td>800.0000</td>\n",
              "      <td>800.000000</td>\n",
              "      <td>800.000000</td>\n",
              "      <td>800.000000</td>\n",
              "      <td>800.000000</td>\n",
              "      <td>800.000000</td>\n",
              "      <td>800.000000</td>\n",
              "      <td>800.00000</td>\n",
              "    </tr>\n",
              "    <tr>\n",
              "      <th>mean</th>\n",
              "      <td>400.5000</td>\n",
              "      <td>69.258750</td>\n",
              "      <td>79.001250</td>\n",
              "      <td>73.842500</td>\n",
              "      <td>72.820000</td>\n",
              "      <td>71.902500</td>\n",
              "      <td>68.277500</td>\n",
              "      <td>3.32375</td>\n",
              "    </tr>\n",
              "    <tr>\n",
              "      <th>std</th>\n",
              "      <td>231.0844</td>\n",
              "      <td>25.534669</td>\n",
              "      <td>32.457366</td>\n",
              "      <td>31.183501</td>\n",
              "      <td>32.722294</td>\n",
              "      <td>27.828916</td>\n",
              "      <td>29.060474</td>\n",
              "      <td>1.66129</td>\n",
              "    </tr>\n",
              "    <tr>\n",
              "      <th>min</th>\n",
              "      <td>1.0000</td>\n",
              "      <td>1.000000</td>\n",
              "      <td>5.000000</td>\n",
              "      <td>5.000000</td>\n",
              "      <td>10.000000</td>\n",
              "      <td>20.000000</td>\n",
              "      <td>5.000000</td>\n",
              "      <td>1.00000</td>\n",
              "    </tr>\n",
              "    <tr>\n",
              "      <th>25%</th>\n",
              "      <td>200.7500</td>\n",
              "      <td>50.000000</td>\n",
              "      <td>55.000000</td>\n",
              "      <td>50.000000</td>\n",
              "      <td>49.750000</td>\n",
              "      <td>50.000000</td>\n",
              "      <td>45.000000</td>\n",
              "      <td>2.00000</td>\n",
              "    </tr>\n",
              "    <tr>\n",
              "      <th>50%</th>\n",
              "      <td>400.5000</td>\n",
              "      <td>65.000000</td>\n",
              "      <td>75.000000</td>\n",
              "      <td>70.000000</td>\n",
              "      <td>65.000000</td>\n",
              "      <td>70.000000</td>\n",
              "      <td>65.000000</td>\n",
              "      <td>3.00000</td>\n",
              "    </tr>\n",
              "    <tr>\n",
              "      <th>75%</th>\n",
              "      <td>600.2500</td>\n",
              "      <td>80.000000</td>\n",
              "      <td>100.000000</td>\n",
              "      <td>90.000000</td>\n",
              "      <td>95.000000</td>\n",
              "      <td>90.000000</td>\n",
              "      <td>90.000000</td>\n",
              "      <td>5.00000</td>\n",
              "    </tr>\n",
              "    <tr>\n",
              "      <th>max</th>\n",
              "      <td>800.0000</td>\n",
              "      <td>255.000000</td>\n",
              "      <td>190.000000</td>\n",
              "      <td>230.000000</td>\n",
              "      <td>194.000000</td>\n",
              "      <td>230.000000</td>\n",
              "      <td>180.000000</td>\n",
              "      <td>6.00000</td>\n",
              "    </tr>\n",
              "  </tbody>\n",
              "</table>\n",
              "</div>"
            ],
            "text/plain": [
              "              #          HP      Attack  ...     Sp. Def       Speed  Generation\n",
              "count  800.0000  800.000000  800.000000  ...  800.000000  800.000000   800.00000\n",
              "mean   400.5000   69.258750   79.001250  ...   71.902500   68.277500     3.32375\n",
              "std    231.0844   25.534669   32.457366  ...   27.828916   29.060474     1.66129\n",
              "min      1.0000    1.000000    5.000000  ...   20.000000    5.000000     1.00000\n",
              "25%    200.7500   50.000000   55.000000  ...   50.000000   45.000000     2.00000\n",
              "50%    400.5000   65.000000   75.000000  ...   70.000000   65.000000     3.00000\n",
              "75%    600.2500   80.000000  100.000000  ...   90.000000   90.000000     5.00000\n",
              "max    800.0000  255.000000  190.000000  ...  230.000000  180.000000     6.00000\n",
              "\n",
              "[8 rows x 8 columns]"
            ]
          },
          "metadata": {
            "tags": []
          },
          "execution_count": 115
        }
      ]
    },
    {
      "cell_type": "code",
      "metadata": {
        "id": "1ZQxjiGyWBdC",
        "colab": {
          "base_uri": "https://localhost:8080/",
          "height": 423
        },
        "outputId": "e2acd030-3452-4b53-bb50-ea849b1bebc8"
      },
      "source": [
        "# TODO 11: Drop all null values (Make sure that inplace is False)\n",
        "\n",
        "data.dropna()"
      ],
      "execution_count": null,
      "outputs": [
        {
          "output_type": "execute_result",
          "data": {
            "text/html": [
              "<div>\n",
              "<style scoped>\n",
              "    .dataframe tbody tr th:only-of-type {\n",
              "        vertical-align: middle;\n",
              "    }\n",
              "\n",
              "    .dataframe tbody tr th {\n",
              "        vertical-align: top;\n",
              "    }\n",
              "\n",
              "    .dataframe thead th {\n",
              "        text-align: right;\n",
              "    }\n",
              "</style>\n",
              "<table border=\"1\" class=\"dataframe\">\n",
              "  <thead>\n",
              "    <tr style=\"text-align: right;\">\n",
              "      <th></th>\n",
              "      <th>#</th>\n",
              "      <th>Name</th>\n",
              "      <th>Type 1</th>\n",
              "      <th>Type 2</th>\n",
              "      <th>HP</th>\n",
              "      <th>Attack</th>\n",
              "      <th>Defense</th>\n",
              "      <th>Sp. Atk</th>\n",
              "      <th>Sp. Def</th>\n",
              "      <th>Speed</th>\n",
              "      <th>Generation</th>\n",
              "      <th>Legendary</th>\n",
              "    </tr>\n",
              "  </thead>\n",
              "  <tbody>\n",
              "    <tr>\n",
              "      <th>0</th>\n",
              "      <td>1</td>\n",
              "      <td>Bulbasaur</td>\n",
              "      <td>Grass</td>\n",
              "      <td>Poison</td>\n",
              "      <td>45</td>\n",
              "      <td>49</td>\n",
              "      <td>49</td>\n",
              "      <td>65</td>\n",
              "      <td>65</td>\n",
              "      <td>45</td>\n",
              "      <td>1</td>\n",
              "      <td>False</td>\n",
              "    </tr>\n",
              "    <tr>\n",
              "      <th>1</th>\n",
              "      <td>2</td>\n",
              "      <td>Ivysaur</td>\n",
              "      <td>Grass</td>\n",
              "      <td>Poison</td>\n",
              "      <td>60</td>\n",
              "      <td>62</td>\n",
              "      <td>63</td>\n",
              "      <td>80</td>\n",
              "      <td>80</td>\n",
              "      <td>60</td>\n",
              "      <td>1</td>\n",
              "      <td>False</td>\n",
              "    </tr>\n",
              "    <tr>\n",
              "      <th>2</th>\n",
              "      <td>3</td>\n",
              "      <td>Venusaur</td>\n",
              "      <td>Grass</td>\n",
              "      <td>Poison</td>\n",
              "      <td>80</td>\n",
              "      <td>82</td>\n",
              "      <td>83</td>\n",
              "      <td>100</td>\n",
              "      <td>100</td>\n",
              "      <td>80</td>\n",
              "      <td>1</td>\n",
              "      <td>False</td>\n",
              "    </tr>\n",
              "    <tr>\n",
              "      <th>3</th>\n",
              "      <td>4</td>\n",
              "      <td>Mega Venusaur</td>\n",
              "      <td>Grass</td>\n",
              "      <td>Poison</td>\n",
              "      <td>80</td>\n",
              "      <td>100</td>\n",
              "      <td>123</td>\n",
              "      <td>122</td>\n",
              "      <td>120</td>\n",
              "      <td>80</td>\n",
              "      <td>1</td>\n",
              "      <td>False</td>\n",
              "    </tr>\n",
              "    <tr>\n",
              "      <th>6</th>\n",
              "      <td>7</td>\n",
              "      <td>Charizard</td>\n",
              "      <td>Fire</td>\n",
              "      <td>Flying</td>\n",
              "      <td>78</td>\n",
              "      <td>84</td>\n",
              "      <td>78</td>\n",
              "      <td>109</td>\n",
              "      <td>85</td>\n",
              "      <td>100</td>\n",
              "      <td>1</td>\n",
              "      <td>False</td>\n",
              "    </tr>\n",
              "    <tr>\n",
              "      <th>...</th>\n",
              "      <td>...</td>\n",
              "      <td>...</td>\n",
              "      <td>...</td>\n",
              "      <td>...</td>\n",
              "      <td>...</td>\n",
              "      <td>...</td>\n",
              "      <td>...</td>\n",
              "      <td>...</td>\n",
              "      <td>...</td>\n",
              "      <td>...</td>\n",
              "      <td>...</td>\n",
              "      <td>...</td>\n",
              "    </tr>\n",
              "    <tr>\n",
              "      <th>795</th>\n",
              "      <td>796</td>\n",
              "      <td>Diancie</td>\n",
              "      <td>Rock</td>\n",
              "      <td>Fairy</td>\n",
              "      <td>50</td>\n",
              "      <td>100</td>\n",
              "      <td>150</td>\n",
              "      <td>100</td>\n",
              "      <td>150</td>\n",
              "      <td>50</td>\n",
              "      <td>6</td>\n",
              "      <td>True</td>\n",
              "    </tr>\n",
              "    <tr>\n",
              "      <th>796</th>\n",
              "      <td>797</td>\n",
              "      <td>Mega Diancie</td>\n",
              "      <td>Rock</td>\n",
              "      <td>Fairy</td>\n",
              "      <td>50</td>\n",
              "      <td>160</td>\n",
              "      <td>110</td>\n",
              "      <td>160</td>\n",
              "      <td>110</td>\n",
              "      <td>110</td>\n",
              "      <td>6</td>\n",
              "      <td>True</td>\n",
              "    </tr>\n",
              "    <tr>\n",
              "      <th>797</th>\n",
              "      <td>798</td>\n",
              "      <td>Hoopa Confined</td>\n",
              "      <td>Psychic</td>\n",
              "      <td>Ghost</td>\n",
              "      <td>80</td>\n",
              "      <td>110</td>\n",
              "      <td>60</td>\n",
              "      <td>150</td>\n",
              "      <td>130</td>\n",
              "      <td>70</td>\n",
              "      <td>6</td>\n",
              "      <td>True</td>\n",
              "    </tr>\n",
              "    <tr>\n",
              "      <th>798</th>\n",
              "      <td>799</td>\n",
              "      <td>Hoopa Unbound</td>\n",
              "      <td>Psychic</td>\n",
              "      <td>Dark</td>\n",
              "      <td>80</td>\n",
              "      <td>160</td>\n",
              "      <td>60</td>\n",
              "      <td>170</td>\n",
              "      <td>130</td>\n",
              "      <td>80</td>\n",
              "      <td>6</td>\n",
              "      <td>True</td>\n",
              "    </tr>\n",
              "    <tr>\n",
              "      <th>799</th>\n",
              "      <td>800</td>\n",
              "      <td>Volcanion</td>\n",
              "      <td>Fire</td>\n",
              "      <td>Water</td>\n",
              "      <td>80</td>\n",
              "      <td>110</td>\n",
              "      <td>120</td>\n",
              "      <td>130</td>\n",
              "      <td>90</td>\n",
              "      <td>70</td>\n",
              "      <td>6</td>\n",
              "      <td>True</td>\n",
              "    </tr>\n",
              "  </tbody>\n",
              "</table>\n",
              "<p>414 rows × 12 columns</p>\n",
              "</div>"
            ],
            "text/plain": [
              "       #            Name   Type 1  ... Speed  Generation  Legendary\n",
              "0      1       Bulbasaur    Grass  ...    45           1      False\n",
              "1      2         Ivysaur    Grass  ...    60           1      False\n",
              "2      3        Venusaur    Grass  ...    80           1      False\n",
              "3      4   Mega Venusaur    Grass  ...    80           1      False\n",
              "6      7       Charizard     Fire  ...   100           1      False\n",
              "..   ...             ...      ...  ...   ...         ...        ...\n",
              "795  796         Diancie     Rock  ...    50           6       True\n",
              "796  797    Mega Diancie     Rock  ...   110           6       True\n",
              "797  798  Hoopa Confined  Psychic  ...    70           6       True\n",
              "798  799   Hoopa Unbound  Psychic  ...    80           6       True\n",
              "799  800       Volcanion     Fire  ...    70           6       True\n",
              "\n",
              "[414 rows x 12 columns]"
            ]
          },
          "metadata": {
            "tags": []
          },
          "execution_count": 117
        }
      ]
    },
    {
      "cell_type": "markdown",
      "metadata": {
        "id": "bm2xZAHLWjiw"
      },
      "source": [
        "**TODO 12:** Box plot </br> \n",
        "Have a boxplot of Attack grouped by their `Legendary` status </br>\n",
        "The expected output is as follows:\n",
        "\n",
        "![download (2).png](data:image/png;base64,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)"
      ]
    },
    {
      "cell_type": "code",
      "metadata": {
        "id": "uwBJp4zDWPpP",
        "colab": {
          "base_uri": "https://localhost:8080/",
          "height": 373
        },
        "outputId": "6186feb0-39f8-4281-a692-9487c3fe377c"
      },
      "source": [
        "# Run TODO 12 here\n",
        "\n",
        "data.boxplot(by='Legendary', column=['Attack'])"
      ],
      "execution_count": null,
      "outputs": [
        {
          "output_type": "stream",
          "text": [
            "/usr/local/lib/python3.7/dist-packages/numpy/core/_asarray.py:83: VisibleDeprecationWarning: Creating an ndarray from ragged nested sequences (which is a list-or-tuple of lists-or-tuples-or ndarrays with different lengths or shapes) is deprecated. If you meant to do this, you must specify 'dtype=object' when creating the ndarray\n",
            "  return array(a, dtype, copy=False, order=order)\n"
          ],
          "name": "stderr"
        },
        {
          "output_type": "execute_result",
          "data": {
            "text/plain": [
              "<matplotlib.axes._subplots.AxesSubplot at 0x7f65dd088a50>"
            ]
          },
          "metadata": {
            "tags": []
          },
          "execution_count": 134
        },
        {
          "output_type": "display_data",
          "data": {
            "image/png": "[encoded data removed]",
            "text/plain": [
              "<Figure size 432x288 with 1 Axes>"
            ]
          },
          "metadata": {
            "tags": [],
            "needs_background": "light"
          }
        }
      ]
    },
    {
      "cell_type": "code",
      "metadata": {
        "id": "eYhHtxeiWwUw",
        "colab": {
          "base_uri": "https://localhost:8080/",
          "height": 458
        },
        "outputId": "03977992-e7cb-4a4d-82fd-238bd31bbf26"
      },
      "source": [
        "# TODO 13: Sort data in the alphabetic order of the Pokemon's name (make sure that inplace=True)\n",
        "\n",
        "data.sort_values('Name', inplace=True)"
      ],
      "execution_count": null,
      "outputs": [
        {
          "output_type": "execute_result",
          "data": {
            "text/html": [
              "<div>\n",
              "<style scoped>\n",
              "    .dataframe tbody tr th:only-of-type {\n",
              "        vertical-align: middle;\n",
              "    }\n",
              "\n",
              "    .dataframe tbody tr th {\n",
              "        vertical-align: top;\n",
              "    }\n",
              "\n",
              "    .dataframe thead th {\n",
              "        text-align: right;\n",
              "    }\n",
              "</style>\n",
              "<table border=\"1\" class=\"dataframe\">\n",
              "  <thead>\n",
              "    <tr style=\"text-align: right;\">\n",
              "      <th></th>\n",
              "      <th>#</th>\n",
              "      <th>Name</th>\n",
              "      <th>Type 1</th>\n",
              "      <th>Type 2</th>\n",
              "      <th>HP</th>\n",
              "      <th>Attack</th>\n",
              "      <th>Defense</th>\n",
              "      <th>Sp. Atk</th>\n",
              "      <th>Sp. Def</th>\n",
              "      <th>Speed</th>\n",
              "      <th>Generation</th>\n",
              "      <th>Legendary</th>\n",
              "    </tr>\n",
              "  </thead>\n",
              "  <tbody>\n",
              "    <tr>\n",
              "      <th>510</th>\n",
              "      <td>511</td>\n",
              "      <td>Abomasnow</td>\n",
              "      <td>Grass</td>\n",
              "      <td>Ice</td>\n",
              "      <td>90</td>\n",
              "      <td>92</td>\n",
              "      <td>75</td>\n",
              "      <td>92</td>\n",
              "      <td>85</td>\n",
              "      <td>60</td>\n",
              "      <td>4</td>\n",
              "      <td>False</td>\n",
              "    </tr>\n",
              "    <tr>\n",
              "      <th>68</th>\n",
              "      <td>69</td>\n",
              "      <td>Abra</td>\n",
              "      <td>Psychic</td>\n",
              "      <td>NaN</td>\n",
              "      <td>25</td>\n",
              "      <td>20</td>\n",
              "      <td>15</td>\n",
              "      <td>105</td>\n",
              "      <td>55</td>\n",
              "      <td>90</td>\n",
              "      <td>1</td>\n",
              "      <td>False</td>\n",
              "    </tr>\n",
              "    <tr>\n",
              "      <th>392</th>\n",
              "      <td>393</td>\n",
              "      <td>Absol</td>\n",
              "      <td>Dark</td>\n",
              "      <td>NaN</td>\n",
              "      <td>65</td>\n",
              "      <td>130</td>\n",
              "      <td>60</td>\n",
              "      <td>75</td>\n",
              "      <td>60</td>\n",
              "      <td>75</td>\n",
              "      <td>3</td>\n",
              "      <td>False</td>\n",
              "    </tr>\n",
              "    <tr>\n",
              "      <th>678</th>\n",
              "      <td>679</td>\n",
              "      <td>Accelgor</td>\n",
              "      <td>Bug</td>\n",
              "      <td>NaN</td>\n",
              "      <td>80</td>\n",
              "      <td>70</td>\n",
              "      <td>40</td>\n",
              "      <td>100</td>\n",
              "      <td>60</td>\n",
              "      <td>145</td>\n",
              "      <td>5</td>\n",
              "      <td>False</td>\n",
              "    </tr>\n",
              "    <tr>\n",
              "      <th>750</th>\n",
              "      <td>751</td>\n",
              "      <td>Aegislash Blade Forme</td>\n",
              "      <td>Steel</td>\n",
              "      <td>Ghost</td>\n",
              "      <td>60</td>\n",
              "      <td>150</td>\n",
              "      <td>50</td>\n",
              "      <td>150</td>\n",
              "      <td>50</td>\n",
              "      <td>60</td>\n",
              "      <td>6</td>\n",
              "      <td>False</td>\n",
              "    </tr>\n",
              "    <tr>\n",
              "      <th>...</th>\n",
              "      <td>...</td>\n",
              "      <td>...</td>\n",
              "      <td>...</td>\n",
              "      <td>...</td>\n",
              "      <td>...</td>\n",
              "      <td>...</td>\n",
              "      <td>...</td>\n",
              "      <td>...</td>\n",
              "      <td>...</td>\n",
              "      <td>...</td>\n",
              "      <td>...</td>\n",
              "      <td>...</td>\n",
              "    </tr>\n",
              "    <tr>\n",
              "      <th>631</th>\n",
              "      <td>632</td>\n",
              "      <td>Zorua</td>\n",
              "      <td>Dark</td>\n",
              "      <td>NaN</td>\n",
              "      <td>40</td>\n",
              "      <td>65</td>\n",
              "      <td>40</td>\n",
              "      <td>80</td>\n",
              "      <td>40</td>\n",
              "      <td>65</td>\n",
              "      <td>5</td>\n",
              "      <td>False</td>\n",
              "    </tr>\n",
              "    <tr>\n",
              "      <th>46</th>\n",
              "      <td>47</td>\n",
              "      <td>Zubat</td>\n",
              "      <td>Poison</td>\n",
              "      <td>Flying</td>\n",
              "      <td>40</td>\n",
              "      <td>45</td>\n",
              "      <td>35</td>\n",
              "      <td>30</td>\n",
              "      <td>40</td>\n",
              "      <td>55</td>\n",
              "      <td>1</td>\n",
              "      <td>False</td>\n",
              "    </tr>\n",
              "    <tr>\n",
              "      <th>695</th>\n",
              "      <td>696</td>\n",
              "      <td>Zweilous</td>\n",
              "      <td>Dark</td>\n",
              "      <td>Dragon</td>\n",
              "      <td>72</td>\n",
              "      <td>85</td>\n",
              "      <td>70</td>\n",
              "      <td>65</td>\n",
              "      <td>70</td>\n",
              "      <td>58</td>\n",
              "      <td>5</td>\n",
              "      <td>False</td>\n",
              "    </tr>\n",
              "    <tr>\n",
              "      <th>794</th>\n",
              "      <td>795</td>\n",
              "      <td>Zygarde Half Forme</td>\n",
              "      <td>Dragon</td>\n",
              "      <td>Ground</td>\n",
              "      <td>108</td>\n",
              "      <td>100</td>\n",
              "      <td>121</td>\n",
              "      <td>81</td>\n",
              "      <td>95</td>\n",
              "      <td>95</td>\n",
              "      <td>6</td>\n",
              "      <td>True</td>\n",
              "    </tr>\n",
              "    <tr>\n",
              "      <th>62</th>\n",
              "      <td>63</td>\n",
              "      <td>NaN</td>\n",
              "      <td>Fighting</td>\n",
              "      <td>NaN</td>\n",
              "      <td>65</td>\n",
              "      <td>105</td>\n",
              "      <td>60</td>\n",
              "      <td>60</td>\n",
              "      <td>70</td>\n",
              "      <td>95</td>\n",
              "      <td>1</td>\n",
              "      <td>False</td>\n",
              "    </tr>\n",
              "  </tbody>\n",
              "</table>\n",
              "<p>800 rows × 12 columns</p>\n",
              "</div>"
            ],
            "text/plain": [
              "       #                   Name    Type 1  ... Speed  Generation  Legendary\n",
              "510  511              Abomasnow     Grass  ...    60           4      False\n",
              "68    69                   Abra   Psychic  ...    90           1      False\n",
              "392  393                  Absol      Dark  ...    75           3      False\n",
              "678  679               Accelgor       Bug  ...   145           5      False\n",
              "750  751  Aegislash Blade Forme     Steel  ...    60           6      False\n",
              "..   ...                    ...       ...  ...   ...         ...        ...\n",
              "631  632                  Zorua      Dark  ...    65           5      False\n",
              "46    47                  Zubat    Poison  ...    55           1      False\n",
              "695  696               Zweilous      Dark  ...    58           5      False\n",
              "794  795     Zygarde Half Forme    Dragon  ...    95           6       True\n",
              "62    63                    NaN  Fighting  ...    95           1      False\n",
              "\n",
              "[800 rows x 12 columns]"
            ]
          },
          "metadata": {
            "tags": []
          },
          "execution_count": 142
        }
      ]
    },
    {
      "cell_type": "markdown",
      "metadata": {
        "id": "mV22mfFiYlIe"
      },
      "source": [
        "### Manipulating Dataframes with Pandas\n",
        "\n",
        "Import the file again as we intend to reset the data"
      ]
    },
    {
      "cell_type": "code",
      "metadata": {
        "id": "hWKypd_BY1Ry",
        "colab": {
          "base_uri": "https://localhost:8080/",
          "height": 350
        },
        "outputId": "8bf0b910-eadb-44c9-bc85-85d94fda2ad6"
      },
      "source": [
        "from google.colab import files\n",
        "files.upload()"
      ],
      "execution_count": null,
      "outputs": [
        {
          "output_type": "display_data",
          "data": {
            "text/html": [
              "\n",
              "     <input type=\"file\" id=\"files-ae87c243-1cfb-40de-b059-7448edbab613\" name=\"files[]\" multiple disabled\n",
              "        style=\"border:none\" />\n",
              "     <output id=\"result-ae87c243-1cfb-40de-b059-7448edbab613\">\n",
              "      Upload widget is only available when the cell has been executed in the\n",
              "      current browser session. Please rerun this cell to enable.\n",
              "      </output>\n",
              "      <script src=\"/nbextensions/google.colab/files.js\"></script> "
            ],
            "text/plain": [
              "<IPython.core.display.HTML object>"
            ]
          },
          "metadata": {
            "tags": []
          }
        },
        {
          "output_type": "error",
          "ename": "MessageError",
          "evalue": "ignored",
          "traceback": [
            "\u001b[0;31m---------------------------------------------------------------------------\u001b[0m",
            "\u001b[0;31mMessageError\u001b[0m                              Traceback (most recent call last)",
            "\u001b[0;32m<ipython-input-169-5c2e8a8d365b>\u001b[0m in \u001b[0;36m<module>\u001b[0;34m()\u001b[0m\n\u001b[1;32m      1\u001b[0m \u001b[0;32mfrom\u001b[0m \u001b[0mgoogle\u001b[0m\u001b[0;34m.\u001b[0m\u001b[0mcolab\u001b[0m \u001b[0;32mimport\u001b[0m \u001b[0mfiles\u001b[0m\u001b[0;34m\u001b[0m\u001b[0;34m\u001b[0m\u001b[0m\n\u001b[0;32m----> 2\u001b[0;31m \u001b[0mfiles\u001b[0m\u001b[0;34m.\u001b[0m\u001b[0mupload\u001b[0m\u001b[0;34m(\u001b[0m\u001b[0;34m)\u001b[0m\u001b[0;34m\u001b[0m\u001b[0;34m\u001b[0m\u001b[0m\n\u001b[0m",
            "\u001b[0;32m/usr/local/lib/python3.7/dist-packages/google/colab/files.py\u001b[0m in \u001b[0;36mupload\u001b[0;34m()\u001b[0m\n\u001b[1;32m     62\u001b[0m   result = _output.eval_js(\n\u001b[1;32m     63\u001b[0m       'google.colab._files._uploadFiles(\"{input_id}\", \"{output_id}\")'.format(\n\u001b[0;32m---> 64\u001b[0;31m           input_id=input_id, output_id=output_id))\n\u001b[0m\u001b[1;32m     65\u001b[0m   \u001b[0mfiles\u001b[0m \u001b[0;34m=\u001b[0m \u001b[0m_collections\u001b[0m\u001b[0;34m.\u001b[0m\u001b[0mdefaultdict\u001b[0m\u001b[0;34m(\u001b[0m\u001b[0m_six\u001b[0m\u001b[0;34m.\u001b[0m\u001b[0mbinary_type\u001b[0m\u001b[0;34m)\u001b[0m\u001b[0;34m\u001b[0m\u001b[0;34m\u001b[0m\u001b[0m\n\u001b[1;32m     66\u001b[0m   \u001b[0;31m# Mapping from original filename to filename as saved locally.\u001b[0m\u001b[0;34m\u001b[0m\u001b[0;34m\u001b[0m\u001b[0;34m\u001b[0m\u001b[0m\n",
            "\u001b[0;32m/usr/local/lib/python3.7/dist-packages/google/colab/output/_js.py\u001b[0m in \u001b[0;36meval_js\u001b[0;34m(script, ignore_result, timeout_sec)\u001b[0m\n\u001b[1;32m     38\u001b[0m   \u001b[0;32mif\u001b[0m \u001b[0mignore_result\u001b[0m\u001b[0;34m:\u001b[0m\u001b[0;34m\u001b[0m\u001b[0;34m\u001b[0m\u001b[0m\n\u001b[1;32m     39\u001b[0m     \u001b[0;32mreturn\u001b[0m\u001b[0;34m\u001b[0m\u001b[0;34m\u001b[0m\u001b[0m\n\u001b[0;32m---> 40\u001b[0;31m   \u001b[0;32mreturn\u001b[0m \u001b[0m_message\u001b[0m\u001b[0;34m.\u001b[0m\u001b[0mread_reply_from_input\u001b[0m\u001b[0;34m(\u001b[0m\u001b[0mrequest_id\u001b[0m\u001b[0;34m,\u001b[0m \u001b[0mtimeout_sec\u001b[0m\u001b[0;34m)\u001b[0m\u001b[0;34m\u001b[0m\u001b[0;34m\u001b[0m\u001b[0m\n\u001b[0m\u001b[1;32m     41\u001b[0m \u001b[0;34m\u001b[0m\u001b[0m\n\u001b[1;32m     42\u001b[0m \u001b[0;34m\u001b[0m\u001b[0m\n",
            "\u001b[0;32m/usr/local/lib/python3.7/dist-packages/google/colab/_message.py\u001b[0m in \u001b[0;36mread_reply_from_input\u001b[0;34m(message_id, timeout_sec)\u001b[0m\n\u001b[1;32m    104\u001b[0m         reply.get('colab_msg_id') == message_id):\n\u001b[1;32m    105\u001b[0m       \u001b[0;32mif\u001b[0m \u001b[0;34m'error'\u001b[0m \u001b[0;32min\u001b[0m \u001b[0mreply\u001b[0m\u001b[0;34m:\u001b[0m\u001b[0;34m\u001b[0m\u001b[0;34m\u001b[0m\u001b[0m\n\u001b[0;32m--> 106\u001b[0;31m         \u001b[0;32mraise\u001b[0m \u001b[0mMessageError\u001b[0m\u001b[0;34m(\u001b[0m\u001b[0mreply\u001b[0m\u001b[0;34m[\u001b[0m\u001b[0;34m'error'\u001b[0m\u001b[0;34m]\u001b[0m\u001b[0;34m)\u001b[0m\u001b[0;34m\u001b[0m\u001b[0;34m\u001b[0m\u001b[0m\n\u001b[0m\u001b[1;32m    107\u001b[0m       \u001b[0;32mreturn\u001b[0m \u001b[0mreply\u001b[0m\u001b[0;34m.\u001b[0m\u001b[0mget\u001b[0m\u001b[0;34m(\u001b[0m\u001b[0;34m'data'\u001b[0m\u001b[0;34m,\u001b[0m \u001b[0;32mNone\u001b[0m\u001b[0;34m)\u001b[0m\u001b[0;34m\u001b[0m\u001b[0;34m\u001b[0m\u001b[0m\n\u001b[1;32m    108\u001b[0m \u001b[0;34m\u001b[0m\u001b[0m\n",
            "\u001b[0;31mMessageError\u001b[0m: TypeError: Cannot read property '_uploadFiles' of undefined"
          ]
        }
      ]
    },
    {
      "cell_type": "code",
      "metadata": {
        "id": "Jf__VZjkXylr"
      },
      "source": [
        "data = pd.read_csv('pokemon.csv')"
      ],
      "execution_count": null,
      "outputs": []
    },
    {
      "cell_type": "code",
      "metadata": {
        "id": "apdHvLwWY355"
      },
      "source": [
        "data = data.set_index('#')\n",
        "data.head()"
      ],
      "execution_count": null,
      "outputs": []
    },
    {
      "cell_type": "code",
      "metadata": {
        "id": "Jzt6xhjlY9ht",
        "colab": {
          "base_uri": "https://localhost:8080/"
        },
        "outputId": "b5cfc3a0-7a04-4cdb-d1e2-6f66833af022"
      },
      "source": [
        "# TODO 14: Find the HP of the 88th Pokemon\n",
        "\n",
        "data['HP'].iloc[87]"
      ],
      "execution_count": null,
      "outputs": [
        {
          "output_type": "execute_result",
          "data": {
            "text/plain": [
              "95"
            ]
          },
          "metadata": {
            "tags": []
          },
          "execution_count": 173
        }
      ]
    },
    {
      "cell_type": "code",
      "metadata": {
        "id": "QDrKxhh5Z87-",
        "colab": {
          "base_uri": "https://localhost:8080/"
        },
        "outputId": "1ad25a30-12fc-4352-bc12-ef45d04e3c0a"
      },
      "source": [
        "# TODO 15: Create a dataframe with just HP and attack and name it hp_attack\n",
        "\n",
        "hp_attack = pd.DataFrame(data, columns=['HP','Attack'])\n",
        "print(hp_attack)"
      ],
      "execution_count": null,
      "outputs": [
        {
          "output_type": "stream",
          "text": [
            "      HP  Attack\n",
            "510   90      92\n",
            "68    25      20\n",
            "392   65     130\n",
            "678   80      70\n",
            "750   60     150\n",
            "..   ...     ...\n",
            "631   40      65\n",
            "46    40      45\n",
            "695   72      85\n",
            "794  108     100\n",
            "62    65     105\n",
            "\n",
            "[800 rows x 2 columns]\n"
          ],
          "name": "stdout"
        }
      ]
    },
    {
      "cell_type": "code",
      "metadata": {
        "id": "9GCx3MNmbYne",
        "colab": {
          "base_uri": "https://localhost:8080/",
          "height": 363
        },
        "outputId": "beb4b764-7afc-49f8-eb51-739541a38c7a"
      },
      "source": [
        "# TODO 16: Print the first 10 Pokemon in descending order (# 10, 9, ..., 1)\n",
        " \n",
        "data.head(10).sort_index(ascending=False)\n"
      ],
      "execution_count": null,
      "outputs": [
        {
          "output_type": "execute_result",
          "data": {
            "text/html": [
              "<div>\n",
              "<style scoped>\n",
              "    .dataframe tbody tr th:only-of-type {\n",
              "        vertical-align: middle;\n",
              "    }\n",
              "\n",
              "    .dataframe tbody tr th {\n",
              "        vertical-align: top;\n",
              "    }\n",
              "\n",
              "    .dataframe thead th {\n",
              "        text-align: right;\n",
              "    }\n",
              "</style>\n",
              "<table border=\"1\" class=\"dataframe\">\n",
              "  <thead>\n",
              "    <tr style=\"text-align: right;\">\n",
              "      <th></th>\n",
              "      <th>#</th>\n",
              "      <th>Name</th>\n",
              "      <th>Type 1</th>\n",
              "      <th>Type 2</th>\n",
              "      <th>HP</th>\n",
              "      <th>Attack</th>\n",
              "      <th>Defense</th>\n",
              "      <th>Sp. Atk</th>\n",
              "      <th>Sp. Def</th>\n",
              "      <th>Speed</th>\n",
              "      <th>Generation</th>\n",
              "      <th>Legendary</th>\n",
              "    </tr>\n",
              "  </thead>\n",
              "  <tbody>\n",
              "    <tr>\n",
              "      <th>9</th>\n",
              "      <td>10</td>\n",
              "      <td>Squirtle</td>\n",
              "      <td>Water</td>\n",
              "      <td>NaN</td>\n",
              "      <td>44</td>\n",
              "      <td>48</td>\n",
              "      <td>65</td>\n",
              "      <td>50</td>\n",
              "      <td>64</td>\n",
              "      <td>43</td>\n",
              "      <td>1</td>\n",
              "      <td>False</td>\n",
              "    </tr>\n",
              "    <tr>\n",
              "      <th>8</th>\n",
              "      <td>9</td>\n",
              "      <td>Mega Charizard Y</td>\n",
              "      <td>Fire</td>\n",
              "      <td>Flying</td>\n",
              "      <td>78</td>\n",
              "      <td>104</td>\n",
              "      <td>78</td>\n",
              "      <td>159</td>\n",
              "      <td>115</td>\n",
              "      <td>100</td>\n",
              "      <td>1</td>\n",
              "      <td>False</td>\n",
              "    </tr>\n",
              "    <tr>\n",
              "      <th>7</th>\n",
              "      <td>8</td>\n",
              "      <td>Mega Charizard X</td>\n",
              "      <td>Fire</td>\n",
              "      <td>Dragon</td>\n",
              "      <td>78</td>\n",
              "      <td>130</td>\n",
              "      <td>111</td>\n",
              "      <td>130</td>\n",
              "      <td>85</td>\n",
              "      <td>100</td>\n",
              "      <td>1</td>\n",
              "      <td>False</td>\n",
              "    </tr>\n",
              "    <tr>\n",
              "      <th>6</th>\n",
              "      <td>7</td>\n",
              "      <td>Charizard</td>\n",
              "      <td>Fire</td>\n",
              "      <td>Flying</td>\n",
              "      <td>78</td>\n",
              "      <td>84</td>\n",
              "      <td>78</td>\n",
              "      <td>109</td>\n",
              "      <td>85</td>\n",
              "      <td>100</td>\n",
              "      <td>1</td>\n",
              "      <td>False</td>\n",
              "    </tr>\n",
              "    <tr>\n",
              "      <th>5</th>\n",
              "      <td>6</td>\n",
              "      <td>Charmeleon</td>\n",
              "      <td>Fire</td>\n",
              "      <td>NaN</td>\n",
              "      <td>58</td>\n",
              "      <td>64</td>\n",
              "      <td>58</td>\n",
              "      <td>80</td>\n",
              "      <td>65</td>\n",
              "      <td>80</td>\n",
              "      <td>1</td>\n",
              "      <td>False</td>\n",
              "    </tr>\n",
              "    <tr>\n",
              "      <th>4</th>\n",
              "      <td>5</td>\n",
              "      <td>Charmander</td>\n",
              "      <td>Fire</td>\n",
              "      <td>NaN</td>\n",
              "      <td>39</td>\n",
              "      <td>52</td>\n",
              "      <td>43</td>\n",
              "      <td>60</td>\n",
              "      <td>50</td>\n",
              "      <td>65</td>\n",
              "      <td>1</td>\n",
              "      <td>False</td>\n",
              "    </tr>\n",
              "    <tr>\n",
              "      <th>3</th>\n",
              "      <td>4</td>\n",
              "      <td>Mega Venusaur</td>\n",
              "      <td>Grass</td>\n",
              "      <td>Poison</td>\n",
              "      <td>80</td>\n",
              "      <td>100</td>\n",
              "      <td>123</td>\n",
              "      <td>122</td>\n",
              "      <td>120</td>\n",
              "      <td>80</td>\n",
              "      <td>1</td>\n",
              "      <td>False</td>\n",
              "    </tr>\n",
              "    <tr>\n",
              "      <th>2</th>\n",
              "      <td>3</td>\n",
              "      <td>Venusaur</td>\n",
              "      <td>Grass</td>\n",
              "      <td>Poison</td>\n",
              "      <td>80</td>\n",
              "      <td>82</td>\n",
              "      <td>83</td>\n",
              "      <td>100</td>\n",
              "      <td>100</td>\n",
              "      <td>80</td>\n",
              "      <td>1</td>\n",
              "      <td>False</td>\n",
              "    </tr>\n",
              "    <tr>\n",
              "      <th>1</th>\n",
              "      <td>2</td>\n",
              "      <td>Ivysaur</td>\n",
              "      <td>Grass</td>\n",
              "      <td>Poison</td>\n",
              "      <td>60</td>\n",
              "      <td>62</td>\n",
              "      <td>63</td>\n",
              "      <td>80</td>\n",
              "      <td>80</td>\n",
              "      <td>60</td>\n",
              "      <td>1</td>\n",
              "      <td>False</td>\n",
              "    </tr>\n",
              "    <tr>\n",
              "      <th>0</th>\n",
              "      <td>1</td>\n",
              "      <td>Bulbasaur</td>\n",
              "      <td>Grass</td>\n",
              "      <td>Poison</td>\n",
              "      <td>45</td>\n",
              "      <td>49</td>\n",
              "      <td>49</td>\n",
              "      <td>65</td>\n",
              "      <td>65</td>\n",
              "      <td>45</td>\n",
              "      <td>1</td>\n",
              "      <td>False</td>\n",
              "    </tr>\n",
              "  </tbody>\n",
              "</table>\n",
              "</div>"
            ],
            "text/plain": [
              "    #              Name Type 1  Type 2  ...  Sp. Def  Speed  Generation  Legendary\n",
              "9  10          Squirtle  Water     NaN  ...       64     43           1      False\n",
              "8   9  Mega Charizard Y   Fire  Flying  ...      115    100           1      False\n",
              "7   8  Mega Charizard X   Fire  Dragon  ...       85    100           1      False\n",
              "6   7         Charizard   Fire  Flying  ...       85    100           1      False\n",
              "5   6        Charmeleon   Fire     NaN  ...       65     80           1      False\n",
              "4   5        Charmander   Fire     NaN  ...       50     65           1      False\n",
              "3   4     Mega Venusaur  Grass  Poison  ...      120     80           1      False\n",
              "2   3          Venusaur  Grass  Poison  ...      100     80           1      False\n",
              "1   2           Ivysaur  Grass  Poison  ...       80     60           1      False\n",
              "0   1         Bulbasaur  Grass  Poison  ...       65     45           1      False\n",
              "\n",
              "[10 rows x 12 columns]"
            ]
          },
          "metadata": {
            "tags": []
          },
          "execution_count": 180
        }
      ]
    },
    {
      "cell_type": "code",
      "metadata": {
        "id": "O0xyyqk9b2v5",
        "colab": {
          "base_uri": "https://localhost:8080/",
          "height": 455
        },
        "outputId": "c1ee2a1e-8f0e-4b4c-e5c3-ea555c6b00ee"
      },
      "source": [
        "# TODO 17: Set index to 'Type 1' and 'Type 2' respectively and print the first 100 values\n",
        "\n",
        "data.set_index(['Type 1', 'Type 2']).head(100)"
      ],
      "execution_count": null,
      "outputs": [
        {
          "output_type": "execute_result",
          "data": {
            "text/html": [
              "<div>\n",
              "<style scoped>\n",
              "    .dataframe tbody tr th:only-of-type {\n",
              "        vertical-align: middle;\n",
              "    }\n",
              "\n",
              "    .dataframe tbody tr th {\n",
              "        vertical-align: top;\n",
              "    }\n",
              "\n",
              "    .dataframe thead th {\n",
              "        text-align: right;\n",
              "    }\n",
              "</style>\n",
              "<table border=\"1\" class=\"dataframe\">\n",
              "  <thead>\n",
              "    <tr style=\"text-align: right;\">\n",
              "      <th></th>\n",
              "      <th></th>\n",
              "      <th>#</th>\n",
              "      <th>Name</th>\n",
              "      <th>HP</th>\n",
              "      <th>Attack</th>\n",
              "      <th>Defense</th>\n",
              "      <th>Sp. Atk</th>\n",
              "      <th>Sp. Def</th>\n",
              "      <th>Speed</th>\n",
              "      <th>Generation</th>\n",
              "      <th>Legendary</th>\n",
              "    </tr>\n",
              "    <tr>\n",
              "      <th>Type 1</th>\n",
              "      <th>Type 2</th>\n",
              "      <th></th>\n",
              "      <th></th>\n",
              "      <th></th>\n",
              "      <th></th>\n",
              "      <th></th>\n",
              "      <th></th>\n",
              "      <th></th>\n",
              "      <th></th>\n",
              "      <th></th>\n",
              "      <th></th>\n",
              "    </tr>\n",
              "  </thead>\n",
              "  <tbody>\n",
              "    <tr>\n",
              "      <th rowspan=\"4\" valign=\"top\">Grass</th>\n",
              "      <th>Poison</th>\n",
              "      <td>1</td>\n",
              "      <td>Bulbasaur</td>\n",
              "      <td>45</td>\n",
              "      <td>49</td>\n",
              "      <td>49</td>\n",
              "      <td>65</td>\n",
              "      <td>65</td>\n",
              "      <td>45</td>\n",
              "      <td>1</td>\n",
              "      <td>False</td>\n",
              "    </tr>\n",
              "    <tr>\n",
              "      <th>Poison</th>\n",
              "      <td>2</td>\n",
              "      <td>Ivysaur</td>\n",
              "      <td>60</td>\n",
              "      <td>62</td>\n",
              "      <td>63</td>\n",
              "      <td>80</td>\n",
              "      <td>80</td>\n",
              "      <td>60</td>\n",
              "      <td>1</td>\n",
              "      <td>False</td>\n",
              "    </tr>\n",
              "    <tr>\n",
              "      <th>Poison</th>\n",
              "      <td>3</td>\n",
              "      <td>Venusaur</td>\n",
              "      <td>80</td>\n",
              "      <td>82</td>\n",
              "      <td>83</td>\n",
              "      <td>100</td>\n",
              "      <td>100</td>\n",
              "      <td>80</td>\n",
              "      <td>1</td>\n",
              "      <td>False</td>\n",
              "    </tr>\n",
              "    <tr>\n",
              "      <th>Poison</th>\n",
              "      <td>4</td>\n",
              "      <td>Mega Venusaur</td>\n",
              "      <td>80</td>\n",
              "      <td>100</td>\n",
              "      <td>123</td>\n",
              "      <td>122</td>\n",
              "      <td>120</td>\n",
              "      <td>80</td>\n",
              "      <td>1</td>\n",
              "      <td>False</td>\n",
              "    </tr>\n",
              "    <tr>\n",
              "      <th>Fire</th>\n",
              "      <th>NaN</th>\n",
              "      <td>5</td>\n",
              "      <td>Charmander</td>\n",
              "      <td>39</td>\n",
              "      <td>52</td>\n",
              "      <td>43</td>\n",
              "      <td>60</td>\n",
              "      <td>50</td>\n",
              "      <td>65</td>\n",
              "      <td>1</td>\n",
              "      <td>False</td>\n",
              "    </tr>\n",
              "    <tr>\n",
              "      <th>...</th>\n",
              "      <th>...</th>\n",
              "      <td>...</td>\n",
              "      <td>...</td>\n",
              "      <td>...</td>\n",
              "      <td>...</td>\n",
              "      <td>...</td>\n",
              "      <td>...</td>\n",
              "      <td>...</td>\n",
              "      <td>...</td>\n",
              "      <td>...</td>\n",
              "      <td>...</td>\n",
              "    </tr>\n",
              "    <tr>\n",
              "      <th rowspan=\"2\" valign=\"top\">Poison</th>\n",
              "      <th>NaN</th>\n",
              "      <td>96</td>\n",
              "      <td>Grimer</td>\n",
              "      <td>80</td>\n",
              "      <td>80</td>\n",
              "      <td>50</td>\n",
              "      <td>40</td>\n",
              "      <td>50</td>\n",
              "      <td>25</td>\n",
              "      <td>1</td>\n",
              "      <td>False</td>\n",
              "    </tr>\n",
              "    <tr>\n",
              "      <th>NaN</th>\n",
              "      <td>97</td>\n",
              "      <td>Muk</td>\n",
              "      <td>105</td>\n",
              "      <td>105</td>\n",
              "      <td>75</td>\n",
              "      <td>65</td>\n",
              "      <td>100</td>\n",
              "      <td>50</td>\n",
              "      <td>1</td>\n",
              "      <td>False</td>\n",
              "    </tr>\n",
              "    <tr>\n",
              "      <th rowspan=\"2\" valign=\"top\">Water</th>\n",
              "      <th>NaN</th>\n",
              "      <td>98</td>\n",
              "      <td>Shellder</td>\n",
              "      <td>30</td>\n",
              "      <td>65</td>\n",
              "      <td>100</td>\n",
              "      <td>45</td>\n",
              "      <td>25</td>\n",
              "      <td>40</td>\n",
              "      <td>1</td>\n",
              "      <td>False</td>\n",
              "    </tr>\n",
              "    <tr>\n",
              "      <th>Ice</th>\n",
              "      <td>99</td>\n",
              "      <td>Cloyster</td>\n",
              "      <td>50</td>\n",
              "      <td>95</td>\n",
              "      <td>180</td>\n",
              "      <td>85</td>\n",
              "      <td>45</td>\n",
              "      <td>70</td>\n",
              "      <td>1</td>\n",
              "      <td>False</td>\n",
              "    </tr>\n",
              "    <tr>\n",
              "      <th>Ghost</th>\n",
              "      <th>Poison</th>\n",
              "      <td>100</td>\n",
              "      <td>Gastly</td>\n",
              "      <td>30</td>\n",
              "      <td>35</td>\n",
              "      <td>30</td>\n",
              "      <td>100</td>\n",
              "      <td>35</td>\n",
              "      <td>80</td>\n",
              "      <td>1</td>\n",
              "      <td>False</td>\n",
              "    </tr>\n",
              "  </tbody>\n",
              "</table>\n",
              "<p>100 rows × 10 columns</p>\n",
              "</div>"
            ],
            "text/plain": [
              "                 #           Name   HP  ...  Speed  Generation  Legendary\n",
              "Type 1 Type 2                           ...                              \n",
              "Grass  Poison    1      Bulbasaur   45  ...     45           1      False\n",
              "       Poison    2        Ivysaur   60  ...     60           1      False\n",
              "       Poison    3       Venusaur   80  ...     80           1      False\n",
              "       Poison    4  Mega Venusaur   80  ...     80           1      False\n",
              "Fire   NaN       5     Charmander   39  ...     65           1      False\n",
              "...            ...            ...  ...  ...    ...         ...        ...\n",
              "Poison NaN      96         Grimer   80  ...     25           1      False\n",
              "       NaN      97            Muk  105  ...     50           1      False\n",
              "Water  NaN      98       Shellder   30  ...     40           1      False\n",
              "       Ice      99       Cloyster   50  ...     70           1      False\n",
              "Ghost  Poison  100         Gastly   30  ...     80           1      False\n",
              "\n",
              "[100 rows x 10 columns]"
            ]
          },
          "metadata": {
            "tags": []
          },
          "execution_count": 188
        }
      ]
    },
    {
      "cell_type": "code",
      "metadata": {
        "id": "NvRv-SDwdTQf",
        "colab": {
          "base_uri": "https://localhost:8080/",
          "height": 401
        },
        "outputId": "1e12bdc3-dba6-4c30-bb17-a3a3ac6a3013"
      },
      "source": [
        "# TODO 18: Plot 'Attack' vs. 'Defense' and pivot the data based on the 'Generation'\n",
        "\n",
        "sns.lmplot(x='Attack',y='Defense',data=data,hue='Generation')"
      ],
      "execution_count": null,
      "outputs": [
        {
          "output_type": "execute_result",
          "data": {
            "text/plain": [
              "<seaborn.axisgrid.FacetGrid at 0x7f65dc416690>"
            ]
          },
          "metadata": {
            "tags": []
          },
          "execution_count": 190
        },
        {
          "output_type": "display_data",
          "data": {
            "image/png": "[encoded data removed]",
            "text/plain": [
              "<Figure size 423.75x360 with 1 Axes>"
            ]
          },
          "metadata": {
            "tags": [],
            "needs_background": "light"
          }
        }
      ]
    }
  ]
}