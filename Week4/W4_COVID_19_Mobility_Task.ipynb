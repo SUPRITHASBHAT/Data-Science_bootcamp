{
  "nbformat": 4,
  "nbformat_minor": 0,
  "metadata": {
    "colab": {
      "name": "W4_COVID_19_Mobility_Task.ipynb",
      "provenance": [],
      "collapsed_sections": [],
      "toc_visible": true
    },
    "kernelspec": {
      "name": "python3",
      "display_name": "Python 3"
    }
  },
  "cells": [
    {
      "cell_type": "markdown",
      "metadata": {
        "id": "2IU8vPgFTAbG"
      },
      "source": [
        "# Week 04: Exploratory Data Analysis"
      ]
    },
    {
      "cell_type": "markdown",
      "metadata": {
        "id": "dSzVhu-aTAbH"
      },
      "source": [
        "## COVID-19 Community Mobility Data\n",
        "\n",
        "\n",
        "In this task, we will practice using exploratory data analysis on\n",
        "Google’s COVID-19 Community Mobility data.\n",
        "\n",
        "This data was collected from Google Maps users around the world over the\n",
        "last few months - including you, *if* you have Google Maps on your phone\n",
        "and have turned on the Location History setting. It combines location\n",
        "history from a large number of users to capture the overall increase or\n",
        "decrease in time spent in places such as: retail and recreation\n",
        "facilities, groceries and pharmacies, parks, transit stations,\n",
        "workplaces, and residences."
      ]
    },
    {
      "cell_type": "markdown",
      "metadata": {
        "id": "MySC75cNTAbI"
      },
      "source": [
        "Learn about the data\n",
        "--------------------\n",
        "\n",
        "First, it is worthwhile to learn more about the data: how it is\n",
        "collected, what is included, how Google gets consent to collect this\n",
        "data, and how user privacy is protected. Google provides several\n",
        "resources for learning about the data:\n",
        "\n",
        "-   [Blog\n",
        "    post](https://www.blog.google/technology/health/covid-19-community-mobility-reports?hl=en)\n",
        "-   [About this\n",
        "    data](https://www.google.com/covid19/mobility/data_documentation.html?hl=en#about-this-data)\n",
        "-   [Understand the\n",
        "    data](https://support.google.com/covid19-mobility/answer/9825414?hl=en&ref_topic=9822927)"
      ]
    },
    {
      "cell_type": "markdown",
      "metadata": {
        "id": "ZuMxjnsXTAbJ"
      },
      "source": [
        "Read in data\n",
        "------------\n",
        "\n",
        "Now you are ready to read the data into your notebook.\n",
        "\n",
        "Visit Google’s web page for the [COVID-19 Community\n",
        "Mobility](https://www.google.com/covid19/mobility/) project to get the\n",
        "URL for the data."
      ]
    },
    {
      "cell_type": "code",
      "metadata": {
        "id": "svcQqtFUTAbK"
      },
      "source": [
        "import pandas as pd\n",
        "import seaborn as sns\n",
        "import matplotlib.pyplot as plt"
      ],
      "execution_count": 7,
      "outputs": []
    },
    {
      "cell_type": "code",
      "metadata": {
        "id": "v4PWbQeqTAbQ",
        "colab": {
          "base_uri": "https://localhost:8080/"
        },
        "outputId": "3ef68669-fcb7-43f4-828d-ea7f2862cb86"
      },
      "source": [
        "# Import the URL\n",
        "\n",
        "url = 'https://www.gstatic.com/covid19/mobility/Global_Mobility_Report.csv'\n",
        "df = pd.read_csv(url)"
      ],
      "execution_count": 8,
      "outputs": [
        {
          "output_type": "stream",
          "text": [
            "/usr/local/lib/python3.7/dist-packages/IPython/core/interactiveshell.py:2718: DtypeWarning: Columns (4,5) have mixed types.Specify dtype option on import or set low_memory=False.\n",
            "  interactivity=interactivity, compiler=compiler, result=result)\n"
          ],
          "name": "stderr"
        }
      ]
    },
    {
      "cell_type": "markdown",
      "metadata": {
        "id": "mQ5uQbSbTAbW"
      },
      "source": [
        "### TODO 1\n",
        "\n",
        "Use the `head()` function to look at the first few samples"
      ]
    },
    {
      "cell_type": "code",
      "metadata": {
        "id": "skRlis3dTAbd",
        "colab": {
          "base_uri": "https://localhost:8080/",
          "height": 313
        },
        "outputId": "db0c3320-9221-400e-a1d5-8e4ff2bb8b09"
      },
      "source": [
        "# Run code here\n",
        "\n",
        "df.head()"
      ],
      "execution_count": 9,
      "outputs": [
        {
          "output_type": "execute_result",
          "data": {
            "text/html": [
              "<div>\n",
              "<style scoped>\n",
              "    .dataframe tbody tr th:only-of-type {\n",
              "        vertical-align: middle;\n",
              "    }\n",
              "\n",
              "    .dataframe tbody tr th {\n",
              "        vertical-align: top;\n",
              "    }\n",
              "\n",
              "    .dataframe thead th {\n",
              "        text-align: right;\n",
              "    }\n",
              "</style>\n",
              "<table border=\"1\" class=\"dataframe\">\n",
              "  <thead>\n",
              "    <tr style=\"text-align: right;\">\n",
              "      <th></th>\n",
              "      <th>country_region_code</th>\n",
              "      <th>country_region</th>\n",
              "      <th>sub_region_1</th>\n",
              "      <th>sub_region_2</th>\n",
              "      <th>metro_area</th>\n",
              "      <th>iso_3166_2_code</th>\n",
              "      <th>census_fips_code</th>\n",
              "      <th>place_id</th>\n",
              "      <th>date</th>\n",
              "      <th>retail_and_recreation_percent_change_from_baseline</th>\n",
              "      <th>grocery_and_pharmacy_percent_change_from_baseline</th>\n",
              "      <th>parks_percent_change_from_baseline</th>\n",
              "      <th>transit_stations_percent_change_from_baseline</th>\n",
              "      <th>workplaces_percent_change_from_baseline</th>\n",
              "      <th>residential_percent_change_from_baseline</th>\n",
              "    </tr>\n",
              "  </thead>\n",
              "  <tbody>\n",
              "    <tr>\n",
              "      <th>0</th>\n",
              "      <td>AE</td>\n",
              "      <td>United Arab Emirates</td>\n",
              "      <td>NaN</td>\n",
              "      <td>NaN</td>\n",
              "      <td>NaN</td>\n",
              "      <td>NaN</td>\n",
              "      <td>NaN</td>\n",
              "      <td>ChIJvRKrsd9IXj4RpwoIwFYv0zM</td>\n",
              "      <td>2020-02-15</td>\n",
              "      <td>0.0</td>\n",
              "      <td>4.0</td>\n",
              "      <td>5.0</td>\n",
              "      <td>0.0</td>\n",
              "      <td>2.0</td>\n",
              "      <td>1.0</td>\n",
              "    </tr>\n",
              "    <tr>\n",
              "      <th>1</th>\n",
              "      <td>AE</td>\n",
              "      <td>United Arab Emirates</td>\n",
              "      <td>NaN</td>\n",
              "      <td>NaN</td>\n",
              "      <td>NaN</td>\n",
              "      <td>NaN</td>\n",
              "      <td>NaN</td>\n",
              "      <td>ChIJvRKrsd9IXj4RpwoIwFYv0zM</td>\n",
              "      <td>2020-02-16</td>\n",
              "      <td>1.0</td>\n",
              "      <td>4.0</td>\n",
              "      <td>4.0</td>\n",
              "      <td>1.0</td>\n",
              "      <td>2.0</td>\n",
              "      <td>1.0</td>\n",
              "    </tr>\n",
              "    <tr>\n",
              "      <th>2</th>\n",
              "      <td>AE</td>\n",
              "      <td>United Arab Emirates</td>\n",
              "      <td>NaN</td>\n",
              "      <td>NaN</td>\n",
              "      <td>NaN</td>\n",
              "      <td>NaN</td>\n",
              "      <td>NaN</td>\n",
              "      <td>ChIJvRKrsd9IXj4RpwoIwFYv0zM</td>\n",
              "      <td>2020-02-17</td>\n",
              "      <td>-1.0</td>\n",
              "      <td>1.0</td>\n",
              "      <td>5.0</td>\n",
              "      <td>1.0</td>\n",
              "      <td>2.0</td>\n",
              "      <td>1.0</td>\n",
              "    </tr>\n",
              "    <tr>\n",
              "      <th>3</th>\n",
              "      <td>AE</td>\n",
              "      <td>United Arab Emirates</td>\n",
              "      <td>NaN</td>\n",
              "      <td>NaN</td>\n",
              "      <td>NaN</td>\n",
              "      <td>NaN</td>\n",
              "      <td>NaN</td>\n",
              "      <td>ChIJvRKrsd9IXj4RpwoIwFYv0zM</td>\n",
              "      <td>2020-02-18</td>\n",
              "      <td>-2.0</td>\n",
              "      <td>1.0</td>\n",
              "      <td>5.0</td>\n",
              "      <td>0.0</td>\n",
              "      <td>2.0</td>\n",
              "      <td>1.0</td>\n",
              "    </tr>\n",
              "    <tr>\n",
              "      <th>4</th>\n",
              "      <td>AE</td>\n",
              "      <td>United Arab Emirates</td>\n",
              "      <td>NaN</td>\n",
              "      <td>NaN</td>\n",
              "      <td>NaN</td>\n",
              "      <td>NaN</td>\n",
              "      <td>NaN</td>\n",
              "      <td>ChIJvRKrsd9IXj4RpwoIwFYv0zM</td>\n",
              "      <td>2020-02-19</td>\n",
              "      <td>-2.0</td>\n",
              "      <td>0.0</td>\n",
              "      <td>4.0</td>\n",
              "      <td>-1.0</td>\n",
              "      <td>2.0</td>\n",
              "      <td>1.0</td>\n",
              "    </tr>\n",
              "  </tbody>\n",
              "</table>\n",
              "</div>"
            ],
            "text/plain": [
              "  country_region_code  ... residential_percent_change_from_baseline\n",
              "0                  AE  ...                                      1.0\n",
              "1                  AE  ...                                      1.0\n",
              "2                  AE  ...                                      1.0\n",
              "3                  AE  ...                                      1.0\n",
              "4                  AE  ...                                      1.0\n",
              "\n",
              "[5 rows x 15 columns]"
            ]
          },
          "metadata": {
            "tags": []
          },
          "execution_count": 9
        }
      ]
    },
    {
      "cell_type": "markdown",
      "metadata": {
        "id": "jxypCpAhcKAn"
      },
      "source": [
        "### TODO 2\n",
        "\n",
        "Use the `info()` function to look at the information"
      ]
    },
    {
      "cell_type": "code",
      "metadata": {
        "id": "43-cCRfpTAbX",
        "colab": {
          "base_uri": "https://localhost:8080/"
        },
        "outputId": "2851dde2-aaf9-483a-ff75-834811ff765c"
      },
      "source": [
        "# Run code here\n",
        "\n",
        "df.info()"
      ],
      "execution_count": 10,
      "outputs": [
        {
          "output_type": "stream",
          "text": [
            "<class 'pandas.core.frame.DataFrame'>\n",
            "RangeIndex: 6104431 entries, 0 to 6104430\n",
            "Data columns (total 15 columns):\n",
            " #   Column                                              Dtype  \n",
            "---  ------                                              -----  \n",
            " 0   country_region_code                                 object \n",
            " 1   country_region                                      object \n",
            " 2   sub_region_1                                        object \n",
            " 3   sub_region_2                                        object \n",
            " 4   metro_area                                          object \n",
            " 5   iso_3166_2_code                                     object \n",
            " 6   census_fips_code                                    float64\n",
            " 7   place_id                                            object \n",
            " 8   date                                                object \n",
            " 9   retail_and_recreation_percent_change_from_baseline  float64\n",
            " 10  grocery_and_pharmacy_percent_change_from_baseline   float64\n",
            " 11  parks_percent_change_from_baseline                  float64\n",
            " 12  transit_stations_percent_change_from_baseline       float64\n",
            " 13  workplaces_percent_change_from_baseline             float64\n",
            " 14  residential_percent_change_from_baseline            float64\n",
            "dtypes: float64(7), object(8)\n",
            "memory usage: 698.6+ MB\n"
          ],
          "name": "stdout"
        }
      ]
    },
    {
      "cell_type": "markdown",
      "metadata": {
        "id": "Iw0YZ-I5TAbi"
      },
      "source": [
        "Basic data manipulations\n",
        "------------------------"
      ]
    },
    {
      "cell_type": "markdown",
      "metadata": {
        "id": "sTABdHNlTAbk"
      },
      "source": [
        "### TODO 3\n",
        "\n",
        "The data includes a date field, but it may have been read in as a\n",
        "string, rather than as a `datetime`. If that’s the case, use\n",
        "`to_datetime()` to convert the field into a datetime format. (You can\n",
        "follow the example in the “Exploratory data analysis” notebook from this\n",
        "week’s lesson.)\n",
        "\n",
        "Then, use `info()` again to make sure your change was applied. Note the\n",
        "difference in the output, relative to the cell above."
      ]
    },
    {
      "cell_type": "code",
      "metadata": {
        "id": "P-PKfC2ITAbm",
        "colab": {
          "base_uri": "https://localhost:8080/"
        },
        "outputId": "7e62591e-96f8-40bc-fcbc-32e532c1b159"
      },
      "source": [
        "# Run code here\n",
        "\n",
        "df['date'] = pd.to_datetime(df['date'])\n",
        "df.info()"
      ],
      "execution_count": 11,
      "outputs": [
        {
          "output_type": "stream",
          "text": [
            "<class 'pandas.core.frame.DataFrame'>\n",
            "RangeIndex: 6104431 entries, 0 to 6104430\n",
            "Data columns (total 15 columns):\n",
            " #   Column                                              Dtype         \n",
            "---  ------                                              -----         \n",
            " 0   country_region_code                                 object        \n",
            " 1   country_region                                      object        \n",
            " 2   sub_region_1                                        object        \n",
            " 3   sub_region_2                                        object        \n",
            " 4   metro_area                                          object        \n",
            " 5   iso_3166_2_code                                     object        \n",
            " 6   census_fips_code                                    float64       \n",
            " 7   place_id                                            object        \n",
            " 8   date                                                datetime64[ns]\n",
            " 9   retail_and_recreation_percent_change_from_baseline  float64       \n",
            " 10  grocery_and_pharmacy_percent_change_from_baseline   float64       \n",
            " 11  parks_percent_change_from_baseline                  float64       \n",
            " 12  transit_stations_percent_change_from_baseline       float64       \n",
            " 13  workplaces_percent_change_from_baseline             float64       \n",
            " 14  residential_percent_change_from_baseline            float64       \n",
            "dtypes: datetime64[ns](1), float64(7), object(7)\n",
            "memory usage: 698.6+ MB\n"
          ],
          "name": "stdout"
        }
      ]
    },
    {
      "cell_type": "markdown",
      "metadata": {
        "id": "QGjAp1D7TAbq"
      },
      "source": [
        "### TODO 4\n",
        "\n",
        "Next, you are going to extract the subset of data for the location of\n",
        "your choice.\n",
        "\n",
        "The data is reported for different regions, with different levels of\n",
        "granularity available. This is best explained by example:\n",
        "\n",
        "Suppose I want the overall trend from the entire U.S. I would use the\n",
        "subset of data where `country_region` is equal to “United States” and\n",
        "`sub_region_1` is null:\n",
        "\n",
        "    df_subset = df[(df['country_region'].eq(\"United States\")) & (df['sub_region_1'].isnull())]\n",
        "\n",
        "Suppose I want the overall trend from the entire state of New York: I\n",
        "would use the subset of data where `country_region` is equal to “United\n",
        "States”, `sub_region_1` is equal to “New York”, and `sub_region_2` is\n",
        "null:\n",
        "\n",
        "    df_subset = df[(df['country_region'].eq(\"United States\")) & (df['sub_region_1'].eq(\"New York\")) & (df['sub_region_2'].isnull())]\n",
        "\n",
        "Suppose I want the overall trend from Brooklyn, New York (Kings County):\n",
        "I would use the subset of data where `country_region` is equal to\n",
        "“United States”, `sub_region_1` is equal to “New York”, and\n",
        "`sub_region_2` is equal to “Kings County”:\n",
        "\n",
        "    df_subset = df[(df['country_region'].eq(\"United States\")) & (df['sub_region_1'].eq(\"New York\")) & (df['sub_region_2'].eq(\"Kings County\"))]\n",
        "\n",
        "In the following cell(s), fill in the code to create a data frame\n",
        "`df_subset` with data from a single location. You can go down to the\n",
        "`sub_region_1` level or the `sub_region_2` level - depending on the\n",
        "location you chose, the finer level of granularity may not be available."
      ]
    },
    {
      "cell_type": "code",
      "metadata": {
        "id": "FtOsm54HmpS1",
        "colab": {
          "base_uri": "https://localhost:8080/",
          "height": 617
        },
        "outputId": "343acd39-bfab-4c5b-b3bf-e4774f907d4d"
      },
      "source": [
        "# Run code here\n",
        "\n",
        "df_subset = df[df['country_region'].eq('India')]\n",
        "df_subset"
      ],
      "execution_count": 12,
      "outputs": [
        {
          "output_type": "execute_result",
          "data": {
            "text/html": [
              "<div>\n",
              "<style scoped>\n",
              "    .dataframe tbody tr th:only-of-type {\n",
              "        vertical-align: middle;\n",
              "    }\n",
              "\n",
              "    .dataframe tbody tr th {\n",
              "        vertical-align: top;\n",
              "    }\n",
              "\n",
              "    .dataframe thead th {\n",
              "        text-align: right;\n",
              "    }\n",
              "</style>\n",
              "<table border=\"1\" class=\"dataframe\">\n",
              "  <thead>\n",
              "    <tr style=\"text-align: right;\">\n",
              "      <th></th>\n",
              "      <th>country_region_code</th>\n",
              "      <th>country_region</th>\n",
              "      <th>sub_region_1</th>\n",
              "      <th>sub_region_2</th>\n",
              "      <th>metro_area</th>\n",
              "      <th>iso_3166_2_code</th>\n",
              "      <th>census_fips_code</th>\n",
              "      <th>place_id</th>\n",
              "      <th>date</th>\n",
              "      <th>retail_and_recreation_percent_change_from_baseline</th>\n",
              "      <th>grocery_and_pharmacy_percent_change_from_baseline</th>\n",
              "      <th>parks_percent_change_from_baseline</th>\n",
              "      <th>transit_stations_percent_change_from_baseline</th>\n",
              "      <th>workplaces_percent_change_from_baseline</th>\n",
              "      <th>residential_percent_change_from_baseline</th>\n",
              "    </tr>\n",
              "  </thead>\n",
              "  <tbody>\n",
              "    <tr>\n",
              "      <th>2612732</th>\n",
              "      <td>IN</td>\n",
              "      <td>India</td>\n",
              "      <td>NaN</td>\n",
              "      <td>NaN</td>\n",
              "      <td>NaN</td>\n",
              "      <td>NaN</td>\n",
              "      <td>NaN</td>\n",
              "      <td>ChIJkbeSa_BfYzARphNChaFPjNc</td>\n",
              "      <td>2020-02-15</td>\n",
              "      <td>1.0</td>\n",
              "      <td>2.0</td>\n",
              "      <td>3.0</td>\n",
              "      <td>3.0</td>\n",
              "      <td>5.0</td>\n",
              "      <td>0.0</td>\n",
              "    </tr>\n",
              "    <tr>\n",
              "      <th>2612733</th>\n",
              "      <td>IN</td>\n",
              "      <td>India</td>\n",
              "      <td>NaN</td>\n",
              "      <td>NaN</td>\n",
              "      <td>NaN</td>\n",
              "      <td>NaN</td>\n",
              "      <td>NaN</td>\n",
              "      <td>ChIJkbeSa_BfYzARphNChaFPjNc</td>\n",
              "      <td>2020-02-16</td>\n",
              "      <td>2.0</td>\n",
              "      <td>2.0</td>\n",
              "      <td>3.0</td>\n",
              "      <td>2.0</td>\n",
              "      <td>0.0</td>\n",
              "      <td>0.0</td>\n",
              "    </tr>\n",
              "    <tr>\n",
              "      <th>2612734</th>\n",
              "      <td>IN</td>\n",
              "      <td>India</td>\n",
              "      <td>NaN</td>\n",
              "      <td>NaN</td>\n",
              "      <td>NaN</td>\n",
              "      <td>NaN</td>\n",
              "      <td>NaN</td>\n",
              "      <td>ChIJkbeSa_BfYzARphNChaFPjNc</td>\n",
              "      <td>2020-02-17</td>\n",
              "      <td>-1.0</td>\n",
              "      <td>1.0</td>\n",
              "      <td>3.0</td>\n",
              "      <td>1.0</td>\n",
              "      <td>4.0</td>\n",
              "      <td>0.0</td>\n",
              "    </tr>\n",
              "    <tr>\n",
              "      <th>2612735</th>\n",
              "      <td>IN</td>\n",
              "      <td>India</td>\n",
              "      <td>NaN</td>\n",
              "      <td>NaN</td>\n",
              "      <td>NaN</td>\n",
              "      <td>NaN</td>\n",
              "      <td>NaN</td>\n",
              "      <td>ChIJkbeSa_BfYzARphNChaFPjNc</td>\n",
              "      <td>2020-02-18</td>\n",
              "      <td>0.0</td>\n",
              "      <td>2.0</td>\n",
              "      <td>4.0</td>\n",
              "      <td>2.0</td>\n",
              "      <td>3.0</td>\n",
              "      <td>0.0</td>\n",
              "    </tr>\n",
              "    <tr>\n",
              "      <th>2612736</th>\n",
              "      <td>IN</td>\n",
              "      <td>India</td>\n",
              "      <td>NaN</td>\n",
              "      <td>NaN</td>\n",
              "      <td>NaN</td>\n",
              "      <td>NaN</td>\n",
              "      <td>NaN</td>\n",
              "      <td>ChIJkbeSa_BfYzARphNChaFPjNc</td>\n",
              "      <td>2020-02-19</td>\n",
              "      <td>0.0</td>\n",
              "      <td>2.0</td>\n",
              "      <td>1.0</td>\n",
              "      <td>1.0</td>\n",
              "      <td>4.0</td>\n",
              "      <td>1.0</td>\n",
              "    </tr>\n",
              "    <tr>\n",
              "      <th>...</th>\n",
              "      <td>...</td>\n",
              "      <td>...</td>\n",
              "      <td>...</td>\n",
              "      <td>...</td>\n",
              "      <td>...</td>\n",
              "      <td>...</td>\n",
              "      <td>...</td>\n",
              "      <td>...</td>\n",
              "      <td>...</td>\n",
              "      <td>...</td>\n",
              "      <td>...</td>\n",
              "      <td>...</td>\n",
              "      <td>...</td>\n",
              "      <td>...</td>\n",
              "      <td>...</td>\n",
              "    </tr>\n",
              "    <tr>\n",
              "      <th>2954178</th>\n",
              "      <td>IN</td>\n",
              "      <td>India</td>\n",
              "      <td>West Bengal</td>\n",
              "      <td>West Medinipur</td>\n",
              "      <td>NaN</td>\n",
              "      <td>NaN</td>\n",
              "      <td>NaN</td>\n",
              "      <td>ChIJJXVMlY9CHToR4mlOVIq_xDQ</td>\n",
              "      <td>2021-07-07</td>\n",
              "      <td>-27.0</td>\n",
              "      <td>11.0</td>\n",
              "      <td>-2.0</td>\n",
              "      <td>-24.0</td>\n",
              "      <td>-11.0</td>\n",
              "      <td>17.0</td>\n",
              "    </tr>\n",
              "    <tr>\n",
              "      <th>2954179</th>\n",
              "      <td>IN</td>\n",
              "      <td>India</td>\n",
              "      <td>West Bengal</td>\n",
              "      <td>West Medinipur</td>\n",
              "      <td>NaN</td>\n",
              "      <td>NaN</td>\n",
              "      <td>NaN</td>\n",
              "      <td>ChIJJXVMlY9CHToR4mlOVIq_xDQ</td>\n",
              "      <td>2021-07-08</td>\n",
              "      <td>-16.0</td>\n",
              "      <td>17.0</td>\n",
              "      <td>5.0</td>\n",
              "      <td>-19.0</td>\n",
              "      <td>-1.0</td>\n",
              "      <td>17.0</td>\n",
              "    </tr>\n",
              "    <tr>\n",
              "      <th>2954180</th>\n",
              "      <td>IN</td>\n",
              "      <td>India</td>\n",
              "      <td>West Bengal</td>\n",
              "      <td>West Medinipur</td>\n",
              "      <td>NaN</td>\n",
              "      <td>NaN</td>\n",
              "      <td>NaN</td>\n",
              "      <td>ChIJJXVMlY9CHToR4mlOVIq_xDQ</td>\n",
              "      <td>2021-07-09</td>\n",
              "      <td>-19.0</td>\n",
              "      <td>11.0</td>\n",
              "      <td>7.0</td>\n",
              "      <td>-21.0</td>\n",
              "      <td>-7.0</td>\n",
              "      <td>19.0</td>\n",
              "    </tr>\n",
              "    <tr>\n",
              "      <th>2954181</th>\n",
              "      <td>IN</td>\n",
              "      <td>India</td>\n",
              "      <td>West Bengal</td>\n",
              "      <td>West Medinipur</td>\n",
              "      <td>NaN</td>\n",
              "      <td>NaN</td>\n",
              "      <td>NaN</td>\n",
              "      <td>ChIJJXVMlY9CHToR4mlOVIq_xDQ</td>\n",
              "      <td>2021-07-10</td>\n",
              "      <td>-22.0</td>\n",
              "      <td>6.0</td>\n",
              "      <td>6.0</td>\n",
              "      <td>-23.0</td>\n",
              "      <td>-6.0</td>\n",
              "      <td>19.0</td>\n",
              "    </tr>\n",
              "    <tr>\n",
              "      <th>2954182</th>\n",
              "      <td>IN</td>\n",
              "      <td>India</td>\n",
              "      <td>West Bengal</td>\n",
              "      <td>West Medinipur</td>\n",
              "      <td>NaN</td>\n",
              "      <td>NaN</td>\n",
              "      <td>NaN</td>\n",
              "      <td>ChIJJXVMlY9CHToR4mlOVIq_xDQ</td>\n",
              "      <td>2021-07-11</td>\n",
              "      <td>-19.0</td>\n",
              "      <td>10.0</td>\n",
              "      <td>6.0</td>\n",
              "      <td>-21.0</td>\n",
              "      <td>0.0</td>\n",
              "      <td>17.0</td>\n",
              "    </tr>\n",
              "  </tbody>\n",
              "</table>\n",
              "<p>341451 rows × 15 columns</p>\n",
              "</div>"
            ],
            "text/plain": [
              "        country_region_code  ... residential_percent_change_from_baseline\n",
              "2612732                  IN  ...                                      0.0\n",
              "2612733                  IN  ...                                      0.0\n",
              "2612734                  IN  ...                                      0.0\n",
              "2612735                  IN  ...                                      0.0\n",
              "2612736                  IN  ...                                      1.0\n",
              "...                     ...  ...                                      ...\n",
              "2954178                  IN  ...                                     17.0\n",
              "2954179                  IN  ...                                     17.0\n",
              "2954180                  IN  ...                                     19.0\n",
              "2954181                  IN  ...                                     19.0\n",
              "2954182                  IN  ...                                     17.0\n",
              "\n",
              "[341451 rows x 15 columns]"
            ]
          },
          "metadata": {
            "tags": []
          },
          "execution_count": 12
        }
      ]
    },
    {
      "cell_type": "code",
      "metadata": {
        "id": "BBvEDSf9mtwx",
        "colab": {
          "base_uri": "https://localhost:8080/",
          "height": 617
        },
        "outputId": "eb15019c-4513-4531-b53e-f111ad2ebb45"
      },
      "source": [
        "df_subset = df[(df['country_region'].eq('India')) & (df['sub_region_1'].eq('Karnataka') & (df['sub_region_2']))]\n",
        "df_subset"
      ],
      "execution_count": 13,
      "outputs": [
        {
          "output_type": "execute_result",
          "data": {
            "text/html": [
              "<div>\n",
              "<style scoped>\n",
              "    .dataframe tbody tr th:only-of-type {\n",
              "        vertical-align: middle;\n",
              "    }\n",
              "\n",
              "    .dataframe tbody tr th {\n",
              "        vertical-align: top;\n",
              "    }\n",
              "\n",
              "    .dataframe thead th {\n",
              "        text-align: right;\n",
              "    }\n",
              "</style>\n",
              "<table border=\"1\" class=\"dataframe\">\n",
              "  <thead>\n",
              "    <tr style=\"text-align: right;\">\n",
              "      <th></th>\n",
              "      <th>country_region_code</th>\n",
              "      <th>country_region</th>\n",
              "      <th>sub_region_1</th>\n",
              "      <th>sub_region_2</th>\n",
              "      <th>metro_area</th>\n",
              "      <th>iso_3166_2_code</th>\n",
              "      <th>census_fips_code</th>\n",
              "      <th>place_id</th>\n",
              "      <th>date</th>\n",
              "      <th>retail_and_recreation_percent_change_from_baseline</th>\n",
              "      <th>grocery_and_pharmacy_percent_change_from_baseline</th>\n",
              "      <th>parks_percent_change_from_baseline</th>\n",
              "      <th>transit_stations_percent_change_from_baseline</th>\n",
              "      <th>workplaces_percent_change_from_baseline</th>\n",
              "      <th>residential_percent_change_from_baseline</th>\n",
              "    </tr>\n",
              "  </thead>\n",
              "  <tbody>\n",
              "    <tr>\n",
              "      <th>2732192</th>\n",
              "      <td>IN</td>\n",
              "      <td>India</td>\n",
              "      <td>Karnataka</td>\n",
              "      <td>Bagalkot</td>\n",
              "      <td>NaN</td>\n",
              "      <td>NaN</td>\n",
              "      <td>NaN</td>\n",
              "      <td>ChIJrcgn8IaCxzsREsW7euo_pD0</td>\n",
              "      <td>2020-02-15</td>\n",
              "      <td>5.0</td>\n",
              "      <td>9.0</td>\n",
              "      <td>0.0</td>\n",
              "      <td>4.0</td>\n",
              "      <td>7.0</td>\n",
              "      <td>-1.0</td>\n",
              "    </tr>\n",
              "    <tr>\n",
              "      <th>2732193</th>\n",
              "      <td>IN</td>\n",
              "      <td>India</td>\n",
              "      <td>Karnataka</td>\n",
              "      <td>Bagalkot</td>\n",
              "      <td>NaN</td>\n",
              "      <td>NaN</td>\n",
              "      <td>NaN</td>\n",
              "      <td>ChIJrcgn8IaCxzsREsW7euo_pD0</td>\n",
              "      <td>2020-02-16</td>\n",
              "      <td>8.0</td>\n",
              "      <td>6.0</td>\n",
              "      <td>-2.0</td>\n",
              "      <td>7.0</td>\n",
              "      <td>1.0</td>\n",
              "      <td>-2.0</td>\n",
              "    </tr>\n",
              "    <tr>\n",
              "      <th>2732194</th>\n",
              "      <td>IN</td>\n",
              "      <td>India</td>\n",
              "      <td>Karnataka</td>\n",
              "      <td>Bagalkot</td>\n",
              "      <td>NaN</td>\n",
              "      <td>NaN</td>\n",
              "      <td>NaN</td>\n",
              "      <td>ChIJrcgn8IaCxzsREsW7euo_pD0</td>\n",
              "      <td>2020-02-17</td>\n",
              "      <td>2.0</td>\n",
              "      <td>3.0</td>\n",
              "      <td>-1.0</td>\n",
              "      <td>4.0</td>\n",
              "      <td>9.0</td>\n",
              "      <td>0.0</td>\n",
              "    </tr>\n",
              "    <tr>\n",
              "      <th>2732195</th>\n",
              "      <td>IN</td>\n",
              "      <td>India</td>\n",
              "      <td>Karnataka</td>\n",
              "      <td>Bagalkot</td>\n",
              "      <td>NaN</td>\n",
              "      <td>NaN</td>\n",
              "      <td>NaN</td>\n",
              "      <td>ChIJrcgn8IaCxzsREsW7euo_pD0</td>\n",
              "      <td>2020-02-18</td>\n",
              "      <td>4.0</td>\n",
              "      <td>-1.0</td>\n",
              "      <td>-2.0</td>\n",
              "      <td>2.0</td>\n",
              "      <td>7.0</td>\n",
              "      <td>0.0</td>\n",
              "    </tr>\n",
              "    <tr>\n",
              "      <th>2732196</th>\n",
              "      <td>IN</td>\n",
              "      <td>India</td>\n",
              "      <td>Karnataka</td>\n",
              "      <td>Bagalkot</td>\n",
              "      <td>NaN</td>\n",
              "      <td>NaN</td>\n",
              "      <td>NaN</td>\n",
              "      <td>ChIJrcgn8IaCxzsREsW7euo_pD0</td>\n",
              "      <td>2020-02-19</td>\n",
              "      <td>2.0</td>\n",
              "      <td>-4.0</td>\n",
              "      <td>-1.0</td>\n",
              "      <td>4.0</td>\n",
              "      <td>5.0</td>\n",
              "      <td>0.0</td>\n",
              "    </tr>\n",
              "    <tr>\n",
              "      <th>...</th>\n",
              "      <td>...</td>\n",
              "      <td>...</td>\n",
              "      <td>...</td>\n",
              "      <td>...</td>\n",
              "      <td>...</td>\n",
              "      <td>...</td>\n",
              "      <td>...</td>\n",
              "      <td>...</td>\n",
              "      <td>...</td>\n",
              "      <td>...</td>\n",
              "      <td>...</td>\n",
              "      <td>...</td>\n",
              "      <td>...</td>\n",
              "      <td>...</td>\n",
              "      <td>...</td>\n",
              "    </tr>\n",
              "    <tr>\n",
              "      <th>2747577</th>\n",
              "      <td>IN</td>\n",
              "      <td>India</td>\n",
              "      <td>Karnataka</td>\n",
              "      <td>Yadgir</td>\n",
              "      <td>NaN</td>\n",
              "      <td>NaN</td>\n",
              "      <td>NaN</td>\n",
              "      <td>ChIJZXh1MZlDyDsRl9_JE1UoIuw</td>\n",
              "      <td>2021-07-07</td>\n",
              "      <td>11.0</td>\n",
              "      <td>44.0</td>\n",
              "      <td>52.0</td>\n",
              "      <td>-12.0</td>\n",
              "      <td>-17.0</td>\n",
              "      <td>7.0</td>\n",
              "    </tr>\n",
              "    <tr>\n",
              "      <th>2747578</th>\n",
              "      <td>IN</td>\n",
              "      <td>India</td>\n",
              "      <td>Karnataka</td>\n",
              "      <td>Yadgir</td>\n",
              "      <td>NaN</td>\n",
              "      <td>NaN</td>\n",
              "      <td>NaN</td>\n",
              "      <td>ChIJZXh1MZlDyDsRl9_JE1UoIuw</td>\n",
              "      <td>2021-07-08</td>\n",
              "      <td>10.0</td>\n",
              "      <td>42.0</td>\n",
              "      <td>53.0</td>\n",
              "      <td>-10.0</td>\n",
              "      <td>-10.0</td>\n",
              "      <td>10.0</td>\n",
              "    </tr>\n",
              "    <tr>\n",
              "      <th>2747579</th>\n",
              "      <td>IN</td>\n",
              "      <td>India</td>\n",
              "      <td>Karnataka</td>\n",
              "      <td>Yadgir</td>\n",
              "      <td>NaN</td>\n",
              "      <td>NaN</td>\n",
              "      <td>NaN</td>\n",
              "      <td>ChIJZXh1MZlDyDsRl9_JE1UoIuw</td>\n",
              "      <td>2021-07-09</td>\n",
              "      <td>1.0</td>\n",
              "      <td>46.0</td>\n",
              "      <td>52.0</td>\n",
              "      <td>-17.0</td>\n",
              "      <td>-14.0</td>\n",
              "      <td>12.0</td>\n",
              "    </tr>\n",
              "    <tr>\n",
              "      <th>2747580</th>\n",
              "      <td>IN</td>\n",
              "      <td>India</td>\n",
              "      <td>Karnataka</td>\n",
              "      <td>Yadgir</td>\n",
              "      <td>NaN</td>\n",
              "      <td>NaN</td>\n",
              "      <td>NaN</td>\n",
              "      <td>ChIJZXh1MZlDyDsRl9_JE1UoIuw</td>\n",
              "      <td>2021-07-10</td>\n",
              "      <td>-3.0</td>\n",
              "      <td>46.0</td>\n",
              "      <td>54.0</td>\n",
              "      <td>-15.0</td>\n",
              "      <td>-20.0</td>\n",
              "      <td>12.0</td>\n",
              "    </tr>\n",
              "    <tr>\n",
              "      <th>2747581</th>\n",
              "      <td>IN</td>\n",
              "      <td>India</td>\n",
              "      <td>Karnataka</td>\n",
              "      <td>Yadgir</td>\n",
              "      <td>NaN</td>\n",
              "      <td>NaN</td>\n",
              "      <td>NaN</td>\n",
              "      <td>ChIJZXh1MZlDyDsRl9_JE1UoIuw</td>\n",
              "      <td>2021-07-11</td>\n",
              "      <td>6.0</td>\n",
              "      <td>53.0</td>\n",
              "      <td>53.0</td>\n",
              "      <td>-16.0</td>\n",
              "      <td>-14.0</td>\n",
              "      <td>9.0</td>\n",
              "    </tr>\n",
              "  </tbody>\n",
              "</table>\n",
              "<p>15390 rows × 15 columns</p>\n",
              "</div>"
            ],
            "text/plain": [
              "        country_region_code  ... residential_percent_change_from_baseline\n",
              "2732192                  IN  ...                                     -1.0\n",
              "2732193                  IN  ...                                     -2.0\n",
              "2732194                  IN  ...                                      0.0\n",
              "2732195                  IN  ...                                      0.0\n",
              "2732196                  IN  ...                                      0.0\n",
              "...                     ...  ...                                      ...\n",
              "2747577                  IN  ...                                      7.0\n",
              "2747578                  IN  ...                                     10.0\n",
              "2747579                  IN  ...                                     12.0\n",
              "2747580                  IN  ...                                     12.0\n",
              "2747581                  IN  ...                                      9.0\n",
              "\n",
              "[15390 rows x 15 columns]"
            ]
          },
          "metadata": {
            "tags": []
          },
          "execution_count": 13
        }
      ]
    },
    {
      "cell_type": "markdown",
      "metadata": {
        "id": "VVHLU2kQTAbx"
      },
      "source": [
        "### TODO 5\n",
        "\n",
        "Is the data complete, or is some data not available for the location you\n",
        "have chosen? In the following cell, write code to check for missing data\n",
        "in the `...percent_change_from_baseline` fields.\n",
        "\n",
        "**HINT:** Use `info()`"
      ]
    },
    {
      "cell_type": "code",
      "metadata": {
        "id": "ac1mIisdTAby",
        "colab": {
          "base_uri": "https://localhost:8080/"
        },
        "outputId": "d203cadb-b3e4-4788-fff7-9b57f87cf1f8"
      },
      "source": [
        "# Run code here\n",
        "\n",
        "df_subset[['retail_and_recreation_percent_change_from_baseline','grocery_and_pharmacy_percent_change_from_baseline','parks_percent_change_from_baseline','transit_stations_percent_change_from_baseline','workplaces_percent_change_from_baseline','residential_percent_change_from_baseline']].info()\n"
      ],
      "execution_count": 14,
      "outputs": [
        {
          "output_type": "stream",
          "text": [
            "<class 'pandas.core.frame.DataFrame'>\n",
            "Int64Index: 15390 entries, 2732192 to 2747581\n",
            "Data columns (total 6 columns):\n",
            " #   Column                                              Non-Null Count  Dtype  \n",
            "---  ------                                              --------------  -----  \n",
            " 0   retail_and_recreation_percent_change_from_baseline  15340 non-null  float64\n",
            " 1   grocery_and_pharmacy_percent_change_from_baseline   14909 non-null  float64\n",
            " 2   parks_percent_change_from_baseline                  15312 non-null  float64\n",
            " 3   transit_stations_percent_change_from_baseline       15390 non-null  float64\n",
            " 4   workplaces_percent_change_from_baseline             15390 non-null  float64\n",
            " 5   residential_percent_change_from_baseline            15390 non-null  float64\n",
            "dtypes: float64(6)\n",
            "memory usage: 841.6 KB\n"
          ],
          "name": "stdout"
        }
      ]
    },
    {
      "cell_type": "markdown",
      "metadata": {
        "id": "AepdQWIBdT2B"
      },
      "source": [
        "### TODO 6\n",
        "\n",
        "Edit the cell to answer the following question: Is the\n",
        "data complete, or is some relevant data missing? Why would some\n",
        "locations only have partial data available (missing some\n",
        "`...percent_change_from_baseline` fields for some dates)? </br> \n",
        "**Include a short quote from the material you read in the “Learn about the data”\n",
        "section to answer this question.**"
      ]
    },
    {
      "cell_type": "markdown",
      "metadata": {
        "id": "evz8F_e2dghF"
      },
      "source": [
        "**Answer:** </br>\n",
        "\n",
        "The data depends on various factors-\n",
        "1. User using the applicationa and settings enabled/disabled by the person\n",
        "2. Connectivity at a particular day with the server of the application\n",
        "3. Some data masked because of privacy issue in some part of the region in my dataset\n",
        "4. Since the data set is huge(longer date-range), any updates in the application might have affected the data\n",
        "5. The data isn't directly mapped with people or country. Because of privacy reasons, the data is put through various tools and can be corrupted.\n",
        "\n",
        "These factors could have influenced some data to be NaN\n"
      ]
    },
    {
      "cell_type": "markdown",
      "metadata": {
        "id": "a0WhR2DOTAb5"
      },
      "source": [
        "### TODO 7\n",
        "\n",
        "For this data, the `date` field is important, but we don’t necessarily\n",
        "care about the absolute date. Instead, we care about how many days have\n",
        "elapsed since the first confirmed case of COVID-19 in this location, how\n",
        "many days have elapsed since a “stay at home” order or similar rule was\n",
        "established in this location (if there was one) and how many days have\n",
        "elapsed since it was lifted (if applicable).\n",
        "\n",
        "For example, in New York, I might compute:\n",
        "\n",
        "    days_since_lockdown = (df_subset['date'] - pd.to_datetime('2020-03-20 00:00:00')).dt.days.values\n",
        "    # NYC lockdown March 20, 2020 https://www.nytimes.com/2020/03/20/us/coronavirus-today.html"
      ]
    },
    {
      "cell_type": "code",
      "metadata": {
        "id": "5IIORbDKTAb6",
        "colab": {
          "base_uri": "https://localhost:8080/"
        },
        "outputId": "31225d90-9101-44ae-b2bc-4de14086eb6a"
      },
      "source": [
        "# Run code here\n",
        "\n",
        "days_since_lockdown = (df_subset['date'] - pd.to_datetime('2020-03-23 00:00:00')).dt.days.values\n",
        "#Karnataka, India lockdown March 23, 2020 -> https://www.indiatoday.in/india/story/coronavirus-in-india-karnataka-announces-lockdown-from-march-24-till-march-31-1658875-2020-03-23\n",
        "days_since_lockdown"
      ],
      "execution_count": 15,
      "outputs": [
        {
          "output_type": "execute_result",
          "data": {
            "text/plain": [
              "array([-37, -36, -35, ..., 473, 474, 475])"
            ]
          },
          "metadata": {
            "tags": []
          },
          "execution_count": 15
        }
      ]
    },
    {
      "cell_type": "markdown",
      "metadata": {
        "id": "mAYBqjOHTAb9"
      },
      "source": [
        "## Visualize data"
      ]
    },
    {
      "cell_type": "markdown",
      "metadata": {
        "id": "o7wDKVoUd5ze"
      },
      "source": [
        "### TODO 8\n",
        "\n",
        "Finally, we are going to visualize the changes in human mobility over\n",
        "this time, for the location you have chosen.\n",
        "\n",
        "In the following cell, create a figure with six subplots, arranged\n",
        "vertically. On the horizontal axis, put the\n",
        "`days_since...` array you computed in the previous cell. On the vertical\n",
        "axes, show:\n",
        "\n",
        "-   `retail_and_recreation_percent_change_from_baseline` in the top\n",
        "    subplot\n",
        "-   `grocery_and_pharmacy_percent_change_from_baseline` in the next\n",
        "    subplot\n",
        "-   `parks_percent_change_from_baseline` in the next subplot\n",
        "-   `transit_stations_percent_change_from_baseline` in the next subplot\n",
        "-   `workplaces_percent_change_from_baseline` in the next subplot\n",
        "-   `residential_percent_change_from_baseline` in the bottom subplot"
      ]
    },
    {
      "cell_type": "code",
      "metadata": {
        "id": "g8Eo9nj4TAb-",
        "colab": {
          "base_uri": "https://localhost:8080/",
          "height": 718
        },
        "outputId": "e3ab6eb2-4985-4a65-f88f-6af3571ffbec"
      },
      "source": [
        "# Run code here\n",
        "\n",
        "sns.pairplot(df_subset, vars=['retail_and_recreation_percent_change_from_baseline', 'grocery_and_pharmacy_percent_change_from_baseline','parks_percent_change_from_baseline','transit_stations_percent_change_from_baseline','workplaces_percent_change_from_baseline','residential_percent_change_from_baseline']) #couldn't plot the days_since_lockdown"
      ],
      "execution_count": 17,
      "outputs": [
        {
          "output_type": "stream",
          "text": [
            "/usr/local/lib/python3.7/dist-packages/seaborn/axisgrid.py:64: UserWarning: Tight layout not applied. tight_layout cannot make axes width small enough to accommodate all axes decorations\n",
            "  self.fig.tight_layout(*args, **kwargs)\n"
          ],
          "name": "stderr"
        },
        {
          "output_type": "execute_result",
          "data": {
            "text/plain": [
              "<seaborn.axisgrid.PairGrid at 0x7f793f3a6290>"
            ]
          },
          "metadata": {
            "tags": []
          },
          "execution_count": 17
        },
        {
          "output_type": "display_data",
          "data": {
            "image/png": "[encoded data removed]",
            "text/plain": [
              "<Figure size 1080x1080 with 42 Axes>"
            ]
          },
          "metadata": {
            "tags": [],
            "needs_background": "light"
          }
        }
      ]
    },
    {
      "cell_type": "markdown",
      "metadata": {
        "id": "1taejI8seDqo"
      },
      "source": [
        "### TODO 9\n",
        "\n",
        "Answer the following question: Do the results seem to\n",
        "satisfy “common sense”? Explain, citing specific data from your plot to\n",
        "support your answer."
      ]
    },
    {
      "cell_type": "markdown",
      "metadata": {
        "id": "Kep_PP6jeIL5"
      },
      "source": [
        "**Answer:** </br>\n",
        "\n"
      ]
    },
    {
      "cell_type": "markdown",
      "metadata": {
        "id": "mzOUz8Si7BCC"
      },
      "source": [
        ":("
      ]
    },
    {
      "cell_type": "markdown",
      "metadata": {
        "id": "LUpv40HieMlx"
      },
      "source": [
        "## Vaccination Data (For Reference)"
      ]
    },
    {
      "cell_type": "markdown",
      "metadata": {
        "id": "61uBc33OfKTp"
      },
      "source": [
        "Now, let's look at some vaccinated data"
      ]
    },
    {
      "cell_type": "code",
      "metadata": {
        "id": "ZhCd9euUo4Hx"
      },
      "source": [
        "df_vax = pd.read_csv('https://github.com/owid/covid-19-data/raw/master/public/data/vaccinations/us_state_vaccinations.csv')"
      ],
      "execution_count": null,
      "outputs": []
    },
    {
      "cell_type": "code",
      "metadata": {
        "id": "TeQm-KFsfQg_"
      },
      "source": [
        "df_vax.head()"
      ],
      "execution_count": null,
      "outputs": []
    },
    {
      "cell_type": "code",
      "metadata": {
        "id": "_N-V7A_1fY1L"
      },
      "source": [
        "df_vax.shape"
      ],
      "execution_count": null,
      "outputs": []
    },
    {
      "cell_type": "code",
      "metadata": {
        "id": "kwfiQmdVpM00"
      },
      "source": [
        "df_vax['date'] = pd.to_datetime(df_vax['date'])"
      ],
      "execution_count": null,
      "outputs": []
    },
    {
      "cell_type": "code",
      "metadata": {
        "id": "luyq7Q2vo7Mt"
      },
      "source": [
        "df_vax_subset = df_vax[df_vax['location'].eq('New York State')]\n",
        "df_vax_subset.info()"
      ],
      "execution_count": null,
      "outputs": []
    },
    {
      "cell_type": "code",
      "metadata": {
        "id": "7dpyV8p0scBB"
      },
      "source": [
        "url_cases = 'https://github.com/nytimes/covid-19-data/raw/master/us-states.csv'\n",
        "df_cases = pd.read_csv(url_cases)"
      ],
      "execution_count": null,
      "outputs": []
    },
    {
      "cell_type": "code",
      "metadata": {
        "id": "1LUWKKt_gQTN"
      },
      "source": [
        "df_cases.head()"
      ],
      "execution_count": null,
      "outputs": []
    },
    {
      "cell_type": "code",
      "metadata": {
        "id": "-cW9p6N_gUXD"
      },
      "source": [
        "df_cases.shape"
      ],
      "execution_count": null,
      "outputs": []
    },
    {
      "cell_type": "code",
      "metadata": {
        "id": "FOMT0zZMgMtZ"
      },
      "source": [
        "df_cases['date'] = pd.to_datetime(df_cases['date'])\n",
        "df_cases_subset = df_cases[df_cases['state'].eq('New York')]\n",
        "df_cases_subset.head()"
      ],
      "execution_count": null,
      "outputs": []
    },
    {
      "cell_type": "code",
      "metadata": {
        "id": "4JCKidQDs5y5"
      },
      "source": [
        "_ = sns.lineplot(x=df_cases_subset['date'], y=df_cases_subset['cases'])"
      ],
      "execution_count": null,
      "outputs": []
    },
    {
      "cell_type": "code",
      "metadata": {
        "id": "MJ7LQu09eUJ4"
      },
      "source": [
        ""
      ],
      "execution_count": null,
      "outputs": []
    }
  ]
}